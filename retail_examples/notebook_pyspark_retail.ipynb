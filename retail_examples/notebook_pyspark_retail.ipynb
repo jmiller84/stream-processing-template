{
 "cells": [
  {
   "cell_type": "code",
   "execution_count": 5,
   "metadata": {},
   "outputs": [],
   "source": [
    "from pyspark.sql import SparkSession\n",
    "from pyspark.sql.types import StringType, StructType, StructField, TimestampType, IntegerType\n",
    "from pyspark.sql.functions import from_json, col\n",
    "\n",
    "# Define the path to the jars on the EC2 instance\n",
    "spark_jars_path = \"/home/ec2-user/stream-processing-template/jars\"  # <-- Update this path\n",
    "\n",
    "spark = SparkSession.builder.appName(\"retail_pysaprk_consumer\") \\\n",
    "    .config(\"spark.jars\", f\"{spark_jars_path}/commons-pool2-2.11.1.jar,\"\n",
    "            f\"{spark_jars_path}/spark-sql-kafka-0-10_2.12-3.4.0.jar,\"\n",
    "            f\"{spark_jars_path}/spark-streaming-kafka-0-10-assembly_2.12-3.4.0.jar\") \\\n",
    "    .getOrCreate()\n"
   ]
  },
  {
   "cell_type": "code",
   "execution_count": 6,
   "metadata": {},
   "outputs": [],
   "source": [
    "# Define the schema for our data\n",
    "schema = StructType([\n",
    "    StructField(\"store_location\", StringType(), True),\n",
    "    StructField(\"time_of_purchase\", TimestampType(), True),\n",
    "    StructField(\"product_ID\", StringType(), True),\n",
    "    StructField(\"transaction_amount\", IntegerType(), True)\n",
    "])\n",
    "\n",
    "# Stream from Kafka topic\n",
    "df = spark.readStream \\\n",
    "    .format(\"kafka\") \\\n",
    "    .option(\"kafka.bootstrap.servers\", \"b-1.monstercluster1.6xql65.c3.kafka.eu-west-2.amazonaws.com:9092\") \\\n",
    "    .option(\"subscribe\", \"retail_transactions\") \\\n",
    "    .load()"
   ]
  },
  {
   "cell_type": "code",
   "execution_count": 11,
   "metadata": {},
   "outputs": [
    {
     "name": "stderr",
     "output_type": "stream",
     "text": [
      "23/12/12 14:01:06 WARN ResolveWriteToStream: Temporary checkpoint location created which is deleted normally when the query didn't fail: /tmp/temporary-b36c9205-3825-41e7-99a4-8ce2f0e71476. If it's required to delete it under any circumstances, please set spark.sql.streaming.forceDeleteTempCheckpointLocation to true. Important to know deleting temp checkpoint folder is best effort.\n",
      "23/12/12 14:01:06 WARN ResolveWriteToStream: spark.sql.adaptive.enabled is not supported in streaming DataFrames/Datasets and will be disabled.\n",
      "23/12/12 14:01:06 WARN AdminClientConfig: These configurations '[key.deserializer, value.deserializer, enable.auto.commit, max.poll.records, auto.offset.reset]' were supplied but are not used yet.\n"
     ]
    },
    {
     "name": "stdout",
     "output_type": "stream",
     "text": [
      "-------------------------------------------\n",
      "Batch: 0\n",
      "-------------------------------------------\n",
      "+--------------+----------------+----------+------------------+\n",
      "|store_location|time_of_purchase|product_ID|transaction_amount|\n",
      "+--------------+----------------+----------+------------------+\n",
      "+--------------+----------------+----------+------------------+\n",
      "\n",
      "-------------------------------------------\n",
      "Batch: 1\n",
      "-------------------------------------------\n",
      "+--------------+-------------------+----------+------------------+\n",
      "|store_location|   time_of_purchase|product_ID|transaction_amount|\n",
      "+--------------+-------------------+----------+------------------+\n",
      "|       Phoenix|2023-12-12 14:01:06|    P00042|               236|\n",
      "+--------------+-------------------+----------+------------------+\n",
      "\n"
     ]
    },
    {
     "name": "stderr",
     "output_type": "stream",
     "text": [
      "                                                                                \r"
     ]
    },
    {
     "name": "stdout",
     "output_type": "stream",
     "text": [
      "-------------------------------------------\n",
      "Batch: 2\n",
      "-------------------------------------------\n",
      "+--------------+-------------------+----------+------------------+\n",
      "|store_location|   time_of_purchase|product_ID|transaction_amount|\n",
      "+--------------+-------------------+----------+------------------+\n",
      "|  Philadelphia|2023-12-12 14:01:08|    P00090|               504|\n",
      "+--------------+-------------------+----------+------------------+\n",
      "\n",
      "-------------------------------------------\n",
      "Batch: 3\n",
      "-------------------------------------------\n",
      "+--------------+-------------------+----------+------------------+\n",
      "|store_location|   time_of_purchase|product_ID|transaction_amount|\n",
      "+--------------+-------------------+----------+------------------+\n",
      "|       Houston|2023-12-12 14:01:11|    P00079|                31|\n",
      "+--------------+-------------------+----------+------------------+\n",
      "\n",
      "-------------------------------------------\n",
      "Batch: 4\n",
      "-------------------------------------------\n",
      "+--------------+-------------------+----------+------------------+\n",
      "|store_location|   time_of_purchase|product_ID|transaction_amount|\n",
      "+--------------+-------------------+----------+------------------+\n",
      "|       Phoenix|2023-12-12 14:01:14|    P00087|               223|\n",
      "+--------------+-------------------+----------+------------------+\n",
      "\n",
      "-------------------------------------------\n",
      "Batch: 5\n",
      "-------------------------------------------\n",
      "+--------------+-------------------+----------+------------------+\n",
      "|store_location|   time_of_purchase|product_ID|transaction_amount|\n",
      "+--------------+-------------------+----------+------------------+\n",
      "|   San Antonio|2023-12-12 14:01:16|    P00041|               785|\n",
      "+--------------+-------------------+----------+------------------+\n",
      "\n",
      "-------------------------------------------\n",
      "Batch: 6\n",
      "-------------------------------------------\n",
      "+--------------+-------------------+----------+------------------+\n",
      "|store_location|   time_of_purchase|product_ID|transaction_amount|\n",
      "+--------------+-------------------+----------+------------------+\n",
      "|       Phoenix|2023-12-12 14:01:18|    P00014|                72|\n",
      "+--------------+-------------------+----------+------------------+\n",
      "\n",
      "-------------------------------------------\n",
      "Batch: 7\n",
      "-------------------------------------------\n",
      "+--------------+-------------------+----------+------------------+\n",
      "|store_location|   time_of_purchase|product_ID|transaction_amount|\n",
      "+--------------+-------------------+----------+------------------+\n",
      "|  Philadelphia|2023-12-12 14:01:21|    P00030|               533|\n",
      "+--------------+-------------------+----------+------------------+\n",
      "\n",
      "-------------------------------------------\n",
      "Batch: 8\n",
      "-------------------------------------------\n",
      "+--------------+-------------------+----------+------------------+\n",
      "|store_location|   time_of_purchase|product_ID|transaction_amount|\n",
      "+--------------+-------------------+----------+------------------+\n",
      "|      New York|2023-12-12 14:01:24|    P00036|               796|\n",
      "+--------------+-------------------+----------+------------------+\n",
      "\n"
     ]
    }
   ],
   "source": [
    "import time\n",
    "\n",
    "transactions = (df.selectExpr(\"CAST(value AS STRING)\")\n",
    "                .withColumn(\"data\", from_json(col(\"value\"), schema))\n",
    "                .select(\"data.*\"))\n",
    "\n",
    "query = transactions.writeStream \\\n",
    "    .outputMode(\"append\") \\\n",
    "    .format(\"console\") \\\n",
    "    .start()\n",
    "\n",
    "# query.awaitTermination()\n",
    "\n",
    "# query.awaitTermination(timeout=3000)  # Wait for a maximum of 60,000 milliseconds (3 seconds)\n",
    "\n",
    "# Wait for 3 seconds\n",
    "time.sleep(20)\n",
    "\n",
    "# Stop the streaming query\n",
    "query.stop()"
   ]
  },
  {
   "cell_type": "code",
   "execution_count": 8,
   "metadata": {},
   "outputs": [],
   "source": [
    "query.stop()"
   ]
  }
 ],
 "metadata": {
  "kernelspec": {
   "display_name": "Python 3",
   "language": "python",
   "name": "python3"
  },
  "language_info": {
   "codemirror_mode": {
    "name": "ipython",
    "version": 3
   },
   "file_extension": ".py",
   "mimetype": "text/x-python",
   "name": "python",
   "nbconvert_exporter": "python",
   "pygments_lexer": "ipython3",
   "version": "3.7.16"
  }
 },
 "nbformat": 4,
 "nbformat_minor": 2
}
