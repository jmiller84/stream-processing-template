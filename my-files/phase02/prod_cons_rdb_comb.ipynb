{
 "cells": [
  {
   "cell_type": "code",
   "execution_count": null,
   "metadata": {},
   "outputs": [],
   "source": [
    "! pip3 install confluent_kafka"
   ]
  },
  {
   "cell_type": "markdown",
   "metadata": {},
   "source": [
    "## Producer - Write messages to a Kafka Topic\n"
   ]
  },
  {
   "cell_type": "markdown",
   "metadata": {},
   "source": [
    "Configure the producer"
   ]
  },
  {
   "cell_type": "code",
   "execution_count": null,
   "metadata": {},
   "outputs": [],
   "source": [
    "from confluent_kafka import Consumer, Producer, KafkaError\n",
    "import psycopg2\n",
    "import json"
   ]
  },
  {
   "cell_type": "code",
   "execution_count": null,
   "metadata": {},
   "outputs": [],
   "source": [
    "conf = {\n",
    "    'bootstrap.servers': 'b-1.monstercluster1.6xql65.c3.kafka.eu-west-2.amazonaws.com:9092',  # This is the address of your Kafka broker(s)\n",
    "    'client.id': 'retail_store_producer_joe', # give the producer a name\n",
    "    'acks': 1,\n",
    "    'message.timeout.ms': 5000 \n",
    "}\n",
    "\n",
    "producer = Producer(conf)"
   ]
  },
  {
   "cell_type": "code",
   "execution_count": null,
   "metadata": {},
   "outputs": [],
   "source": [
    "transaction_data = {\n",
    "    'product_name': 'rocket_ship',\n",
    "    'category': 'toy',\n",
    "    'amount': 10\n",
    "}\n",
    "\n",
    "# Convert the data to string format; often JSON is used\n",
    "import json\n",
    "transaction_string = json.dumps(transaction_data)"
   ]
  },
  {
   "cell_type": "markdown",
   "metadata": {},
   "source": [
    "Send message"
   ]
  },
  {
   "cell_type": "code",
   "execution_count": null,
   "metadata": {},
   "outputs": [],
   "source": [
    "def delivery_report(err, msg):\n",
    "    if err is not None:\n",
    "        print('Message delivery failed: {}'.format(err))\n",
    "    else:\n",
    "        print('Message delivered to {} [{}] - Content: {}'.format(msg.topic(), msg.partition(), msg.value().decode('utf-8')))\n",
    "\n",
    "# produce method takes the name of the topic to which we are sending the message, the message, and callback which returns a delivery report\n",
    "producer.produce('retail_product_topic', transaction_string, callback=delivery_report)\n",
    "producer.flush()"
   ]
  },
  {
   "cell_type": "markdown",
   "metadata": {},
   "source": [
    "## Consumer"
   ]
  },
  {
   "cell_type": "markdown",
   "metadata": {},
   "source": [
    "Collect messages we have just written to the kafka topic and insert into the DB\n",
    "- Kafka topic is a log or sequenced list of events (messages) "
   ]
  },
  {
   "cell_type": "code",
   "execution_count": null,
   "metadata": {},
   "outputs": [],
   "source": [
    "PERSONAL_ID = \"joe\" # To ensure all users read the entire topic\n",
    "\n",
    "conf = {\n",
    "    'bootstrap.servers': 'b-1.monstercluster1.6xql65.c3.kafka.eu-west-2.amazonaws.com:9092',  # Address of your Kafka broker(s)\n",
    "    'group.id': f'retail_store_group_{PERSONAL_ID}', #specify the kfafka consumer group (this group of consumers work to consumer messages from the kafka topic)\n",
    "    'auto.offset.reset': 'earliest'  # Start reading from the beginning of the topic\n",
    "}\n",
    "\n",
    "# create kafka consumer instance\n",
    "consumer = Consumer(conf)\n",
    "\n",
    "consumer.subscribe(['retail_product_topic'])\n",
    "\n",
    "# Connect to the PostgreSQL database\n",
    "connection = psycopg2.connect(\n",
    "    dbname=\"retaildb\",\n",
    "    user=\"ec2-user\",\n",
    "    password=\"your_password\",\n",
    "    host=\"localhost\",         \n",
    "    port=\"5432\"\n",
    ")\n",
    "cursor = connection.cursor()\n",
    "\n",
    "try:\n",
    "    while True:\n",
    "        msg = consumer.poll(1.0)\n",
    "        \n",
    "        if msg is None:\n",
    "            continue\n",
    "\n",
    "        if msg.error():\n",
    "            if msg.error().code() == KafkaError._PARTITION_EOF:\n",
    "                print(f\"Reached end of partition {msg.partition()}.\")\n",
    "            else:\n",
    "                print(f\"Error while consuming message: {msg.error()}\")\n",
    "        else:\n",
    "            # Parse the message value\n",
    "            product_data = json.loads(msg.value().decode('utf-8'))\n",
    "            print(product_data)\n",
    "            \n",
    "            # Insert the data into the database\n",
    "            insert_query = \"\"\"\n",
    "            INSERT INTO retail_products (product_name, product_price, product_category) \n",
    "            VALUES (%s, %s, %s)\n",
    "            \"\"\"\n",
    "            cursor.execute(insert_query, (\n",
    "                product_data[\"product_name\"],\n",
    "                product_data[\"amount\"],\n",
    "                product_data[\"category\"]\n",
    "            ))\n",
    "            \n",
    "            # Commit the transaction\n",
    "            connection.commit()\n",
    "\n",
    "except KeyboardInterrupt:\n",
    "    pass\n",
    "finally:\n",
    "    cursor.close()\n",
    "    connection.close()\n",
    "    consumer.close()\n"
   ]
  },
  {
   "cell_type": "markdown",
   "metadata": {},
   "source": [
    "Display all rows from the retail_products table"
   ]
  },
  {
   "cell_type": "code",
   "execution_count": null,
   "metadata": {},
   "outputs": [],
   "source": [
    "# Connect to the PostgreSQL database\n",
    "connection = psycopg2.connect(\n",
    "    dbname=\"retaildb\",\n",
    "    user=\"ec2-user\",\n",
    "    password=\"your_password\",\n",
    "    host=\"localhost\",\n",
    "    port=\"5432\"\n",
    ")\n",
    "cursor = connection.cursor()\n",
    "\n",
    "try:\n",
    "    # SELECT query to retrieve all rows from the table\n",
    "    select_query = \"SELECT * FROM retail_products\"\n",
    "    cursor.execute(select_query)\n",
    "\n",
    "    # Fetch all rows from the result set\n",
    "    rows = cursor.fetchall()\n",
    "\n",
    "    # Print column headers\n",
    "    col_names = [desc[0] for desc in cursor.description]\n",
    "    print(\" | \".join(col_names))\n",
    "\n",
    "    # Print each row\n",
    "    for row in rows:\n",
    "        print(\" | \".join(map(str, row)))\n",
    "\n",
    "finally:\n",
    "    cursor.close()\n",
    "    connection.close()"
   ]
  }
 ],
 "metadata": {
  "language_info": {
   "name": "python"
  }
 },
 "nbformat": 4,
 "nbformat_minor": 2
}
