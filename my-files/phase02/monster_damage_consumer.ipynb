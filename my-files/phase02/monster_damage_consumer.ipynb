{
 "cells": [
  {
   "cell_type": "code",
   "execution_count": 8,
   "metadata": {},
   "outputs": [
    {
     "name": "stdout",
     "output_type": "stream",
     "text": [
      "Received message: {\"country\": \"Kazakhstan\", \"population\": 18488891, \"monster_name\": \"SKULL-LORD\", \"damage\": 26640, \"updated_population\": 18462251, \"percent_loss\": 1.909, \"ts\": \"2023-12-14 09:39:21.787845\"}\n",
      "Received message: {\"country\": \"Russia\", \"population\": 142911894, \"monster_name\": \"ELK\", \"damage\": 199800, \"updated_population\": 142712094, \"percent_loss\": 2.263, \"ts\": \"2023-12-14 09:39:33.030702\"}\n",
      "Received message: {\"country\": \"Greenland\", \"population\": 0, \"monster_name\": \"MEENLOCK\", \"damage\": 13320, \"updated_population\": 0, \"percent_loss\": 100, \"ts\": \"2023-12-14 09:39:40.111641\"}\n",
      "Received message: {\"country\": \"Russia\", \"population\": 142712094, \"monster_name\": \"CLOUD-GIANT-SMILING-ONE\", \"damage\": 53280, \"updated_population\": 142658814, \"percent_loss\": 2.303, \"ts\": \"2023-12-14 09:39:44.192666\"}\n",
      "Received message: {\"country\": \"Cameroon\", \"population\": 26655083, \"monster_name\": \"RAVEN\", \"damage\": 6660, \"updated_population\": 26648423, \"percent_loss\": 0.025, \"ts\": \"2023-12-14 09:39:47.785197\"}\n",
      "Received message: {\"country\": \"Central African Republic\", \"population\": 4164634, \"monster_name\": \"KOBOLD-INVENTOR\", \"damage\": 46620, \"updated_population\": 4118014, \"percent_loss\": 17.431, \"ts\": \"2023-12-14 09:39:51.867475\"}\n",
      "Received message: {\"country\": \"Turkmenistan\", \"population\": 5646692, \"monster_name\": \"AIR-ELEMENTAL\", \"damage\": 399600, \"updated_population\": 5247092, \"percent_loss\": 14.153, \"ts\": \"2023-12-14 09:39:55.451369\"}\n",
      "Received message: {\"country\": \"Canada\", \"population\": 35967907, \"monster_name\": \"SPELLCASTER-HEALER-LVL-5\", \"damage\": 26640, \"updated_population\": 35941267, \"percent_loss\": 5.166, \"ts\": \"2023-12-14 09:39:58.528453\"}\n",
      "Received message: {\"country\": \"Myanmar\", \"population\": 54473253, \"monster_name\": \"OWL\", \"damage\": 43290, \"updated_population\": 54429963, \"percent_loss\": 0.079, \"ts\": \"2023-12-14 09:40:11.794363\"}\n",
      "Received message: {\"country\": \"United States\", \"population\": 329676050, \"monster_name\": \"ADULT-GREEN-DRAGON\", \"damage\": 479520, \"updated_population\": 329196530, \"percent_loss\": 0.65, \"ts\": \"2023-12-14 09:40:16.396391\"}\n",
      "Received message: {\"country\": \"Egypt\", \"population\": 102659126, \"monster_name\": \"BUGBEAR\", \"damage\": 199800, \"updated_population\": 102459326, \"percent_loss\": 0.195, \"ts\": \"2023-12-14 09:40:43.764544\"}\n",
      "Received message: {\"country\": \"United States\", \"population\": 329129930, \"monster_name\": \"ICE-MEPHIT\", \"damage\": 59940, \"updated_population\": 329069990, \"percent_loss\": 0.69, \"ts\": \"2023-12-14 09:40:52.926239\"}\n",
      "Received message: {\"country\": \"Canada\", \"population\": 35894647, \"monster_name\": \"ANCIENT-COPPER-DRAGON\", \"damage\": 666000, \"updated_population\": 35228647, \"percent_loss\": 7.162, \"ts\": \"2023-12-14 09:40:57.496496\"}\n",
      "Received message: {\"country\": \"Mexico\", \"population\": 128726468, \"monster_name\": \"CHOLDRITH\", \"damage\": 26640, \"updated_population\": 128699828, \"percent_loss\": 0.362, \"ts\": \"2023-12-14 09:41:11.310122\"}\n",
      "Received message: {\"country\": \"China\", \"population\": 1438752705, \"monster_name\": \"IRON-CONSUL\", \"damage\": 26640, \"updated_population\": 1438726065, \"percent_loss\": 0.109, \"ts\": \"2023-12-14 09:41:14.399050\"}\n",
      "Received message: {\"country\": \"Mongolia\", \"population\": 2854342, \"monster_name\": \"GIANT-POISONOUS-SNAKE\", \"damage\": 239760, \"updated_population\": 2614582, \"percent_loss\": 23.566, \"ts\": \"2023-12-14 09:41:19.477258\"}\n",
      "Received message: {\"country\": \"Russia\", \"population\": 142658814, \"monster_name\": \"GOBLIN-BOSS\", \"damage\": 13320, \"updated_population\": 142645494, \"percent_loss\": 2.313, \"ts\": \"2023-12-14 09:41:22.553486\"}\n",
      "Received message: {\"country\": \"Maldives\", \"population\": 542151, \"monster_name\": \"BEHOLDER-ZOMBIE\", \"damage\": 39960, \"updated_population\": 502191, \"percent_loss\": 7.371, \"ts\": \"2023-12-14 09:41:34.215402\"}\n",
      "Received message: {\"country\": \"Indonesia\", \"population\": 273595364, \"monster_name\": \"INVISIBLE-STALKER\", \"damage\": 253080, \"updated_population\": 273342284, \"percent_loss\": 0.248, \"ts\": \"2023-12-14 09:41:42.358884\"}\n",
      "Received message: {\"country\": \"Canada\", \"population\": 35228647, \"monster_name\": \"EXPERT-LVL-2\", \"damage\": 26640, \"updated_population\": 35202007, \"percent_loss\": 7.373, \"ts\": \"2023-12-14 09:41:46.431527\"}\n",
      "Received message: {\"country\": \"Brazil\", \"population\": 212202606, \"monster_name\": \"MYCONID-SOVEREIGN\", \"damage\": 39960, \"updated_population\": 212162646, \"percent_loss\": 0.311, \"ts\": \"2023-12-14 09:41:52.009955\"}\n",
      "Received message: {\"country\": \"Chile\", \"population\": 18651765, \"monster_name\": \"EVOKER\", \"damage\": 26640, \"updated_population\": 18625125, \"percent_loss\": 2.785, \"ts\": \"2023-12-14 09:41:56.121183\"}\n",
      "Received message: {\"country\": \"Libya\", \"population\": 6887247, \"monster_name\": \"DJINNI\", \"damage\": 419580, \"updated_population\": 6467667, \"percent_loss\": 6.092, \"ts\": \"2023-12-14 09:42:30.316961\"}\n",
      "Received message: {\"country\": \"Luxembourg\", \"population\": 627704, \"monster_name\": \"MERFOLK\", \"damage\": 159840, \"updated_population\": 467864, \"percent_loss\": 25.464, \"ts\": \"2023-12-14 09:42:51.006852\"}\n",
      "Received message: {\"country\": \"Canada\", \"population\": 35188687, \"monster_name\": \"COCKATRICE\", \"damage\": 13320, \"updated_population\": 35175367, \"percent_loss\": 7.457, \"ts\": \"2023-12-14 09:42:59.162786\"}\n",
      "Received message: {\"country\": \"Brazil\", \"population\": 212136006, \"monster_name\": \"POISONOUS-SNAKE\", \"damage\": 9990, \"updated_population\": 212126016, \"percent_loss\": 0.328, \"ts\": \"2023-12-14 09:43:11.400431\"}\n",
      "Received message: {\"country\": \"Russia\", \"population\": 142092714, \"monster_name\": \"PANTHER\", \"damage\": 199800, \"updated_population\": 141892914, \"percent_loss\": 2.852, \"ts\": \"2023-12-14 09:43:16.983739\"}\n",
      "Received message: {\"country\": \"Canada\", \"population\": 35175367, \"monster_name\": \"DEATHLOCK-WIGHT\", \"damage\": 26640, \"updated_population\": 35148727, \"percent_loss\": 7.536, \"ts\": \"2023-12-14 09:43:29.141097\"}\n",
      "Received message: {\"country\": \"Australia\", \"population\": 25337563, \"monster_name\": \"RED-ABISHAI\", \"damage\": 26640, \"updated_population\": 25310923, \"percent_loss\": 0.946, \"ts\": \"2023-12-14 09:43:37.289362\"}\n",
      "Received message: {\"country\": \"Canada\", \"population\": 35148727, \"monster_name\": \"WERERAT\", \"damage\": 146520, \"updated_population\": 35002207, \"percent_loss\": 7.958, \"ts\": \"2023-12-14 09:43:47.947171\"}\n",
      "Received message: {\"country\": \"Russia\", \"population\": 141866274, \"monster_name\": \"RIDING-HORSE\", \"damage\": 199800, \"updated_population\": 141666474, \"percent_loss\": 3.016, \"ts\": \"2023-12-14 09:43:51.536378\"}\n",
      "Received message: {\"country\": \"Colombia\", \"population\": 50909648, \"monster_name\": \"CENTAUR\", \"damage\": 219780, \"updated_population\": 50689868, \"percent_loss\": 0.563, \"ts\": \"2023-12-14 09:43:54.631256\"}\n",
      "Received message: {\"country\": \"United States\", \"population\": 329069990, \"monster_name\": \"NIGHT-BLADE\", \"damage\": 26640, \"updated_population\": 329043350, \"percent_loss\": 0.698, \"ts\": \"2023-12-14 09:44:02.296558\"}\n",
      "Received message: {\"country\": \"China\", \"population\": 1438699425, \"monster_name\": \"CATOBLEPAS\", \"damage\": 39960, \"updated_population\": 1438659465, \"percent_loss\": 0.114, \"ts\": \"2023-12-14 09:44:06.878994\"}\n",
      "Received message: {\"country\": \"Russia\", \"population\": 141573234, \"monster_name\": \"LIZARDFOLK\", \"damage\": 133200, \"updated_population\": 141440034, \"percent_loss\": 3.182, \"ts\": \"2023-12-14 09:44:14.542749\"}\n",
      "Received message: {\"country\": \"Iran\", \"population\": 83977129, \"monster_name\": \"SEA-HORSE\", \"damage\": 39960, \"updated_population\": 83937169, \"percent_loss\": 0.286, \"ts\": \"2023-12-14 09:44:17.622060\"}\n",
      "Received message: {\"country\": \"China\", \"population\": 1438659465, \"monster_name\": \"ACERERAK\", \"damage\": 26640, \"updated_population\": 1438632825, \"percent_loss\": 0.116, \"ts\": \"2023-12-14 09:44:30.861255\"}\n",
      "Received message: {\"country\": \"China\", \"population\": 1438632825, \"monster_name\": \"CARRION-CRAWLER\", \"damage\": 39960, \"updated_population\": 1438592865, \"percent_loss\": 0.119, \"ts\": \"2023-12-14 09:44:34.945136\"}\n",
      "Received message: {\"country\": \"Algeria\", \"population\": 43381839, \"monster_name\": \"SKULK\", \"damage\": 26640, \"updated_population\": 43355199, \"percent_loss\": 1.451, \"ts\": \"2023-12-14 09:44:39.020427\"}\n",
      "Received message: {\"country\": \"Portugal\", \"population\": 10191409, \"monster_name\": \"WATER-WEIRD\", \"damage\": 259740, \"updated_population\": 9931669, \"percent_loss\": 2.549, \"ts\": \"2023-12-14 09:44:58.924296\"}\n",
      "Received message: {\"country\": \"Canada\", \"population\": 35002207, \"monster_name\": \"FLIND\", \"damage\": 146520, \"updated_population\": 34855687, \"percent_loss\": 8.41, \"ts\": \"2023-12-14 09:45:21.255862\"}\n",
      "Received message: {\"country\": \"Nepal\", \"population\": 29225196, \"monster_name\": \"IMP\", \"damage\": 56610, \"updated_population\": 29168586, \"percent_loss\": 0.194, \"ts\": \"2023-12-14 09:45:30.907346\"}\n",
      "Received message: {\"country\": \"Mexico\", \"population\": 128696498, \"monster_name\": \"HYDRA\", \"damage\": 53280, \"updated_population\": 128643218, \"percent_loss\": 0.406, \"ts\": \"2023-12-14 09:45:37.556284\"}\n",
      "Received message: {\"country\": \"Canada\", \"population\": 34855687, \"monster_name\": \"MEDUSA\", \"damage\": 159840, \"updated_population\": 34695847, \"percent_loss\": 8.904, \"ts\": \"2023-12-14 09:45:49.304809\"}\n",
      "Received message: {\"country\": \"Ethiopia\", \"population\": 114781764, \"monster_name\": \"ALBINO-DWARF-WARRIOR\", \"damage\": 26640, \"updated_population\": 114755124, \"percent_loss\": 0.592, \"ts\": \"2023-12-14 09:45:53.375870\"}\n",
      "Received message: {\"country\": \"Canada\", \"population\": 34695847, \"monster_name\": \"REEF-SHARK\", \"damage\": 13320, \"updated_population\": 34682527, \"percent_loss\": 8.983, \"ts\": \"2023-12-14 09:46:00.950687\"}\n",
      "Received message: {\"country\": \"Saudi Arabia\", \"population\": 34373142, \"monster_name\": \"EXPERT-LVL-4\", \"damage\": 26640, \"updated_population\": 34346502, \"percent_loss\": 1.628, \"ts\": \"2023-12-14 09:46:08.614133\"}\n",
      "Received message: {\"country\": \"South Africa\", \"population\": 59090405, \"monster_name\": \"GHOUL\", \"damage\": 173160, \"updated_population\": 58917245, \"percent_loss\": 0.879, \"ts\": \"2023-12-14 09:46:18.770311\"}\n",
      "Received message: {\"country\": \"Mexico\", \"population\": 128643218, \"monster_name\": \"PLESIOSAURUS\", \"damage\": 39960, \"updated_population\": 128603258, \"percent_loss\": 0.437, \"ts\": \"2023-12-14 09:46:22.852438\"}\n",
      "Received message: {\"country\": \"Russia\", \"population\": 140920554, \"monster_name\": \"AUROCHS\", \"damage\": 199800, \"updated_population\": 140720754, \"percent_loss\": 3.708, \"ts\": \"2023-12-14 09:46:47.661536\"}\n",
      "Received message: {\"country\": \"China\", \"population\": 1438313145, \"monster_name\": \"STAR-SPAWN-GRUE\", \"damage\": 13320, \"updated_population\": 1438299825, \"percent_loss\": 0.139, \"ts\": \"2023-12-14 09:46:51.243538\"}\n",
      "Received message: {\"country\": \"Brazil\", \"population\": 211493316, \"monster_name\": \"DEVOURER\", \"damage\": 39960, \"updated_population\": 211453356, \"percent_loss\": 0.647, \"ts\": \"2023-12-14 09:47:06.974063\"}\n",
      "Received message: {\"country\": \"Chile\", \"population\": 18625125, \"monster_name\": \"BALHANNOTH\", \"damage\": 39960, \"updated_population\": 18585165, \"percent_loss\": 3.004, \"ts\": \"2023-12-14 09:47:20.807370\"}\n",
      "Received message: {\"country\": \"Greenland\", \"population\": 0, \"monster_name\": \"QUASIT\", \"damage\": 23310, \"updated_population\": 0, \"percent_loss\": 100, \"ts\": \"2023-12-14 09:47:25.377071\"}\n",
      "Received message: {\"country\": \"Russia\", \"population\": 140254554, \"monster_name\": \"QUICKLING\", \"damage\": 6660, \"updated_population\": 140247894, \"percent_loss\": 4.062, \"ts\": \"2023-12-14 09:47:28.453193\"}\n",
      "Received message: {\"country\": \"Egypt\", \"population\": 102459326, \"monster_name\": \"MOLOCH\", \"damage\": 519480, \"updated_population\": 101939846, \"percent_loss\": 0.702, \"ts\": \"2023-12-14 09:47:34.637733\"}\n",
      "Received message: {\"country\": \"Algeria\", \"population\": 43355199, \"monster_name\": \"VETERAN\", \"damage\": 213120, \"updated_population\": 43142079, \"percent_loss\": 1.943, \"ts\": \"2023-12-14 09:47:39.215909\"}\n"
     ]
    }
   ],
   "source": [
    "from confluent_kafka import Consumer, KafkaError\n",
    "import random\n",
    "import time\n",
    "\n",
    "# configure Kafka consumer\n",
    "# bootstrap.servers specifies the kafka broker to connect to\n",
    "# identifies the consumer group to which this consumer belongs\n",
    "conf = {\n",
    "    'bootstrap.servers': 'b-1.monstercluster1.6xql65.c3.kafka.eu-west-2.amazonaws.com:9092',  \n",
    "    'group.id': 'your_group_id',\n",
    "    'auto.offset.reset': 'earliest',\n",
    "}\n",
    "\n",
    "\n",
    "# set sample rate to 10%\n",
    "sample_rate = 0.5  # 10%\n",
    "sampled_data = []\n",
    "timer_duration = 2\n",
    "\n",
    "\n",
    "# create kafka consumer instance\n",
    "consumer = Consumer(conf)\n",
    "\n",
    "def consume_message(duration_minutes):\n",
    "    \n",
    "    start_time = time.time()  # Record the start time\n",
    "    end_time = start_time + (duration_minutes * 60)  \n",
    "    consumer.subscribe(['monster-damage']) #consume messages from the monster-damage Kafka topic\n",
    "\n",
    "    while time.time() < end_time:\n",
    "        msg = consumer.poll(1.0) #checks for message with a timeout of 1.0 seconds.\n",
    "        if msg is None:\n",
    "            # print(\"message is None\") \n",
    "            continue  \n",
    "        if msg.error(): #checks if message contains an error \n",
    "            if msg.error().code() == KafkaError._PARTITION_EOF: # if error is an end of file error it continues the loop\n",
    "                continue\n",
    "            else:\n",
    "                print(msg.error()) # if error is not an end of file error it print the error and breaks the loop\n",
    "                break\n",
    "\n",
    "        if random.random() < sample_rate:\n",
    "            print('Received message: {}'.format(msg.value().decode('utf-8')))\n",
    "            sampled_data.append(msg.value().decode('utf-8'))\n",
    "\n",
    "    consumer.close()\n",
    "\n",
    "\n",
    "\n",
    "if __name__ == \"__main__\":\n",
    "    try:\n",
    "        consume_message(duration_minutes=timer_duration)\n",
    "    except KeyboardInterrupt:\n",
    "        pass\n",
    "\n",
    "\n",
    "\n"
   ]
  },
  {
   "cell_type": "code",
   "execution_count": 6,
   "metadata": {},
   "outputs": [
    {
     "data": {
      "text/plain": [
       "['{\"country\": \"Russia\", \"population\": 144007464, \"monster_name\": \"BANDIT\", \"damage\": 159840, \"updated_population\": 143847624, \"percent_loss\": 1.457, \"ts\": \"2023-12-14 09:35:15.043124\"}',\n",
       " '{\"country\": \"Brazil\", \"population\": 212768706, \"monster_name\": \"ROC\", \"damage\": 299700, \"updated_population\": 212469006, \"percent_loss\": 0.166, \"ts\": \"2023-12-14 09:35:18.621297\"}',\n",
       " '{\"country\": \"Ukraine\", \"population\": 43540057, \"monster_name\": \"TORTLE-DRUID\", \"damage\": 26640, \"updated_population\": 43513417, \"percent_loss\": 0.398, \"ts\": \"2023-12-14 09:35:22.214522\"}',\n",
       " '{\"country\": \"Brazil\", \"population\": 212469006, \"monster_name\": \"BLOOD-HAWK\", \"damage\": 33300, \"updated_population\": 212435706, \"percent_loss\": 0.182, \"ts\": \"2023-12-14 09:35:29.865328\"}',\n",
       " '{\"country\": \"South Africa\", \"population\": 59117045, \"monster_name\": \"SPELLCASTER-MAGE-LVL-3\", \"damage\": 26640, \"updated_population\": 59090405, \"percent_loss\": 0.586, \"ts\": \"2023-12-14 09:35:36.943260\"}',\n",
       " '{\"country\": \"China\", \"population\": 1439378745, \"monster_name\": \"GOAT\", \"damage\": 133200, \"updated_population\": 1439245545, \"percent_loss\": 0.073, \"ts\": \"2023-12-14 09:35:40.027555\"}',\n",
       " '{\"country\": \"China\", \"population\": 1439245545, \"monster_name\": \"TROGLODYTE\", \"damage\": 133200, \"updated_population\": 1439112345, \"percent_loss\": 0.082, \"ts\": \"2023-12-14 09:36:05.989666\"}',\n",
       " '{\"country\": \"Russia\", \"population\": 143847624, \"monster_name\": \"MANSHOON\", \"damage\": 26640, \"updated_population\": 143820984, \"percent_loss\": 1.477, \"ts\": \"2023-12-14 09:36:09.065534\"}',\n",
       " '{\"country\": \"Uzbekistan\", \"population\": 33551824, \"monster_name\": \"WARLOCK-OF-THE-GREAT-OLD-ONE\", \"damage\": 26640, \"updated_population\": 33525184, \"percent_loss\": 0.079, \"ts\": \"2023-12-14 09:36:19.237836\"}',\n",
       " '{\"country\": \"Ukraine\", \"population\": 43513417, \"monster_name\": \"BLACK-DRAGON-WYRMLING\", \"damage\": 173160, \"updated_population\": 43340257, \"percent_loss\": 0.796, \"ts\": \"2023-12-14 09:36:28.987340\"}',\n",
       " '{\"country\": \"Russia\", \"population\": 143527944, \"monster_name\": \"BADGER\", \"damage\": 36630, \"updated_population\": 143491314, \"percent_loss\": 1.71, \"ts\": \"2023-12-14 09:36:49.803223\"}',\n",
       " '{\"country\": \"Brazil\", \"population\": 212429046, \"monster_name\": \"DUST-MEPHIT\", \"damage\": 66600, \"updated_population\": 212362446, \"percent_loss\": 0.216, \"ts\": \"2023-12-14 09:36:57.456769\"}',\n",
       " '{\"country\": \"Canada\", \"population\": 36427447, \"monster_name\": \"AUTUMN-ELADRIN\", \"damage\": 26640, \"updated_population\": 36400807, \"percent_loss\": 3.839, \"ts\": \"2023-12-14 09:37:02.536168\"}',\n",
       " '{\"country\": \"United States\", \"population\": 329915810, \"monster_name\": \"SEA-HAG\", \"damage\": 159840, \"updated_population\": 329755970, \"percent_loss\": 0.48, \"ts\": \"2023-12-14 09:37:05.614843\"}',\n",
       " '{\"country\": \"Venezuela\", \"population\": 28288381, \"monster_name\": \"DEMOGORGON\", \"damage\": 53280, \"updated_population\": 28235101, \"percent_loss\": 0.659, \"ts\": \"2023-12-14 09:37:08.696935\"}',\n",
       " '{\"country\": \"Poland\", \"population\": 37839255, \"monster_name\": \"OGRE-CHAIN-BRUTE\", \"damage\": 39960, \"updated_population\": 37799295, \"percent_loss\": 0.106, \"ts\": \"2023-12-14 09:37:11.790478\"}',\n",
       " '{\"country\": \"Russia\", \"population\": 143491314, \"monster_name\": \"VEGEPYGMY-CHIEF\", \"damage\": 13320, \"updated_population\": 143477994, \"percent_loss\": 1.72, \"ts\": \"2023-12-14 09:37:16.359157\"}',\n",
       " '{\"country\": \"Canada\", \"population\": 36400807, \"monster_name\": \"SWARM-OF-QUIPPERS\", \"damage\": 13320, \"updated_population\": 36387487, \"percent_loss\": 3.879, \"ts\": \"2023-12-14 09:37:26.009095\"}',\n",
       " '{\"country\": \"Argentina\", \"population\": 45267449, \"monster_name\": \"RED-SLAAD\", \"damage\": 39960, \"updated_population\": 45227489, \"percent_loss\": 0.088, \"ts\": \"2023-12-14 09:37:38.159438\"}',\n",
       " '{\"country\": \"Russia\", \"population\": 143477994, \"monster_name\": \"FIRE-ELEMENTAL\", \"damage\": 339660, \"updated_population\": 143138334, \"percent_loss\": 1.957, \"ts\": \"2023-12-14 09:37:44.821630\"}',\n",
       " '{\"country\": \"Poland\", \"population\": 37799295, \"monster_name\": \"DROW-MATRON-MOTHER\", \"damage\": 26640, \"updated_population\": 37772655, \"percent_loss\": 0.176, \"ts\": \"2023-12-14 09:37:52.998313\"}',\n",
       " '{\"country\": \"Russia\", \"population\": 143138334, \"monster_name\": \"VAMPIRE-SPAWN\", \"damage\": 213120, \"updated_population\": 142925214, \"percent_loss\": 2.11, \"ts\": \"2023-12-14 09:37:57.071913\"}',\n",
       " '{\"country\": \"Sudan\", \"population\": 43992623, \"monster_name\": \"FAERIE-DRAGON\", \"damage\": 6660, \"updated_population\": 43985963, \"percent_loss\": 0.076, \"ts\": \"2023-12-14 09:38:00.167441\"}',\n",
       " '{\"country\": \"Norway\", \"population\": 5401954, \"monster_name\": \"DUERGAR-SOULBLADE\", \"damage\": 26640, \"updated_population\": 5375314, \"percent_loss\": 0.986, \"ts\": \"2023-12-14 09:38:11.840692\"}',\n",
       " '{\"country\": \"Canada\", \"population\": 36360847, \"monster_name\": \"FIRE-GIANT\", \"damage\": 266400, \"updated_population\": 36094447, \"percent_loss\": 4.689, \"ts\": \"2023-12-14 09:38:19.029915\"}',\n",
       " '{\"country\": \"Tanzania\", \"population\": 59972440, \"monster_name\": \"COMMONER\", \"damage\": 133200, \"updated_population\": 59839240, \"percent_loss\": 0.289, \"ts\": \"2023-12-14 09:38:29.782138\"}',\n",
       " '{\"country\": \"Canada\", \"population\": 36041167, \"monster_name\": \"BAT\", \"damage\": 6660, \"updated_population\": 36034507, \"percent_loss\": 4.897, \"ts\": \"2023-12-14 09:38:32.859469\"}',\n",
       " '{\"country\": \"China\", \"population\": 1439085705, \"monster_name\": \"PRIEST\", \"damage\": 133200, \"updated_population\": 1438952505, \"percent_loss\": 0.093, \"ts\": \"2023-12-14 09:38:37.441368\"}',\n",
       " '{\"country\": \"Canada\", \"population\": 36034507, \"monster_name\": \"ULTROLOTH\", \"damage\": 26640, \"updated_population\": 36007867, \"percent_loss\": 4.972, \"ts\": \"2023-12-14 09:38:41.521126\"}',\n",
       " '{\"country\": \"Argentina\", \"population\": 45227489, \"monster_name\": \"YUAN-TI-ANATHEMA\", \"damage\": 53280, \"updated_population\": 45174209, \"percent_loss\": 0.206, \"ts\": \"2023-12-14 09:38:44.619146\"}',\n",
       " '{\"country\": \"Japan\", \"population\": 126407422, \"monster_name\": \"GITHZERAI-ENLIGHTNED\", \"damage\": 26640, \"updated_population\": 126380782, \"percent_loss\": 0.021, \"ts\": \"2023-12-14 09:38:47.703708\"}',\n",
       " '{\"country\": \"Madagascar\", \"population\": 27808395, \"monster_name\": \"WARRIOR-LVL-5\", \"damage\": 26640, \"updated_population\": 27781755, \"percent_loss\": 0.096, \"ts\": \"2023-12-14 09:39:02.864157\"}',\n",
       " '{\"country\": \"Mali\", \"population\": 20346106, \"monster_name\": \"LEVIATHAN\", \"damage\": 66600, \"updated_population\": 20279506, \"percent_loss\": 0.327, \"ts\": \"2023-12-14 09:39:08.448212\"}',\n",
       " '{\"country\": \"United States\", \"population\": 329755970, \"monster_name\": \"APE\", \"damage\": 79920, \"updated_population\": 329676050, \"percent_loss\": 0.505, \"ts\": \"2023-12-14 09:39:15.639569\"}']"
      ]
     },
     "execution_count": 6,
     "metadata": {},
     "output_type": "execute_result"
    }
   ],
   "source": [
    "sampled_data"
   ]
  },
  {
   "cell_type": "code",
   "execution_count": 7,
   "metadata": {},
   "outputs": [
    {
     "data": {
      "text/plain": [
       "34"
      ]
     },
     "execution_count": 7,
     "metadata": {},
     "output_type": "execute_result"
    }
   ],
   "source": [
    "len(sampled_data)"
   ]
  },
  {
   "cell_type": "code",
   "execution_count": null,
   "metadata": {},
   "outputs": [],
   "source": []
  }
 ],
 "metadata": {
  "kernelspec": {
   "display_name": "Python 3",
   "language": "python",
   "name": "python3"
  },
  "language_info": {
   "codemirror_mode": {
    "name": "ipython",
    "version": 3
   },
   "file_extension": ".py",
   "mimetype": "text/x-python",
   "name": "python",
   "nbconvert_exporter": "python",
   "pygments_lexer": "ipython3",
   "version": "3.7.16"
  }
 },
 "nbformat": 4,
 "nbformat_minor": 2
}
