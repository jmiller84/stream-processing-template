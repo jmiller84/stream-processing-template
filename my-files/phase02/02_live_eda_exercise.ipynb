{
 "cells": [
  {
   "cell_type": "code",
   "execution_count": 11,
   "metadata": {},
   "outputs": [
    {
     "name": "stdout",
     "output_type": "stream",
     "text": [
      "Received message: {'country': 'Greenland', 'population': 0, 'monster_name': 'MYCONID-ADULT', 'damage': 26640, 'updated_population': 0, 'percent_loss': 100, 'ts': '2023-12-14 09:58:46.858038'}\n",
      "Received message: {'country': 'Indonesia', 'population': 272712914, 'monster_name': 'SHIELD-GUARDIAN', 'damage': 159840, 'updated_population': 272553074, 'percent_loss': 0.538, 'ts': '2023-12-14 09:58:57.524419'}\n",
      "Received message: {'country': 'Namibia', 'population': 2149063, 'monster_name': 'GRICK', 'damage': 186480, 'updated_population': 1962583, 'percent_loss': 27.271, 'ts': '2023-12-14 09:59:02.606922'}\n",
      "Received message: {'country': 'Russia', 'population': 136491654, 'monster_name': 'YUAN-TI-PIT-MASTER', 'damage': 26640, 'updated_population': 136465014, 'percent_loss': 6.946, 'ts': '2023-12-14 09:59:15.370191'}\n",
      "Received message: {'country': 'Algeria', 'population': 42995559, 'monster_name': 'LIZARD-KING-QUEEN', 'damage': 226440, 'updated_population': 42769119, 'percent_loss': 2.827, 'ts': '2023-12-14 09:59:18.449943'}\n",
      "Received message: {'country': 'Malaysia', 'population': 32436963, 'monster_name': 'AIR-ELEMENTAL', 'damage': 399600, 'updated_population': 32037363, 'percent_loss': 1.232, 'ts': '2023-12-14 09:59:22.027200'}\n",
      "Received message: {'country': 'Russia', 'population': 136465014, 'monster_name': 'YETH-HOUND', 'damage': 39960, 'updated_population': 136425054, 'percent_loss': 6.976, 'ts': '2023-12-14 09:59:25.610301'}\n",
      "Received message: {'country': 'Greenland', 'population': 0, 'monster_name': 'WARRIOR-LVL-4', 'damage': 26640, 'updated_population': 0, 'percent_loss': 100, 'ts': '2023-12-14 09:59:31.180369'}\n",
      "Received message: {'country': 'Pakistan', 'population': 221572825, 'monster_name': 'SHAMBLING-MOUND', 'damage': 159840, 'updated_population': 221412985, 'percent_loss': 0.09, 'ts': '2023-12-14 09:59:42.426007'}\n",
      "Received message: {'country': 'Venezuela', 'population': 28208461, 'monster_name': 'DEVILROOT', 'damage': 186480, 'updated_population': 28021981, 'percent_loss': 1.417, 'ts': '2023-12-14 09:59:45.999359'}\n",
      "Received message: {'country': 'Russia', 'population': 136105374, 'monster_name': 'ANKHEG', 'damage': 219780, 'updated_population': 135885594, 'percent_loss': 7.391, 'ts': '2023-12-14 09:59:57.270777'}\n",
      "Received message: {'country': 'China', 'population': 1437613845, 'monster_name': 'BONECLAW', 'damage': 39960, 'updated_population': 1437573885, 'percent_loss': 0.189, 'ts': '2023-12-14 10:00:00.369702'}\n",
      "Received message: {'country': 'Greenland', 'population': 0, 'monster_name': 'ORC-BLADE-OF-ILNEVAL', 'damage': 26640, 'updated_population': 0, 'percent_loss': 100, 'ts': '2023-12-14 10:00:06.439599'}\n",
      "Received message: {'country': 'Madagascar', 'population': 27781755, 'monster_name': 'GIBBERING-MOUTHER', 'damage': 133200, 'updated_population': 27648555, 'percent_loss': 0.575, 'ts': '2023-12-14 10:00:10.529097'}\n",
      "Received message: {'country': 'Indonesia', 'population': 272553074, 'monster_name': 'LIZARDFOLK', 'damage': 133200, 'updated_population': 272419874, 'percent_loss': 0.588, 'ts': '2023-12-14 10:00:14.612313'}\n",
      "Received message: {'country': 'Canada', 'population': 33383827, 'monster_name': 'GITHZERAI-ZERTH', 'damage': 26640, 'updated_population': 33357187, 'percent_loss': 13.307, 'ts': '2023-12-14 10:00:22.262064'}\n",
      "Received message: {'country': 'New Zealand', 'population': 4735781, 'monster_name': 'VAMPIRE-SPAWN', 'damage': 133200, 'updated_population': 4602581, 'percent_loss': 4.781, 'ts': '2023-12-14 10:00:30.405484'}\n",
      "Received message: {'country': 'Algeria', 'population': 42769119, 'monster_name': 'OTYUGH', 'damage': 319680, 'updated_population': 42449439, 'percent_loss': 3.589, 'ts': '2023-12-14 10:00:33.482414'}\n",
      "Received message: {'country': 'United States', 'population': 327911150, 'monster_name': 'WINGED-KOBOLD', 'damage': 53280, 'updated_population': 327857870, 'percent_loss': 1.062, 'ts': '2023-12-14 10:00:37.575092'}\n",
      "Received message: {'country': 'China', 'population': 1437573885, 'monster_name': 'TORTLE', 'damage': 26640, 'updated_population': 1437547245, 'percent_loss': 0.191, 'ts': '2023-12-14 10:00:50.308180'}\n",
      "Received message: {'country': 'United States', 'population': 327831230, 'monster_name': 'GIANT-FIRE-BEETLE', 'damage': 6660, 'updated_population': 327824570, 'percent_loss': 1.073, 'ts': '2023-12-14 10:00:59.451195'}\n",
      "Received message: {'country': 'Egypt', 'population': 101560226, 'monster_name': 'DEATH-KISS', 'damage': 39960, 'updated_population': 101520266, 'percent_loss': 1.121, 'ts': '2023-12-14 10:01:15.788107'}\n",
      "Received message: {'country': 'France', 'population': 64406490, 'monster_name': 'OBLEX-SPAWN', 'damage': 6660, 'updated_population': 64399830, 'percent_loss': 1.396, 'ts': '2023-12-14 10:01:19.389848'}\n",
      "Received message: {'country': 'Nigeria', 'population': 206771227, 'monster_name': 'BASILISK', 'damage': 213120, 'updated_population': 206558107, 'percent_loss': 0.206, 'ts': '2023-12-14 10:01:47.277321'}\n"
     ]
    }
   ],
   "source": [
    "from confluent_kafka import Consumer, KafkaError\n",
    "import json\n",
    "import random\n",
    "import time\n",
    "\n",
    "# configure Kafka consumer\n",
    "# bootstrap.servers specifies the kafka broker to connect to\n",
    "# identifies the consumer group to which this consumer belongs\n",
    "conf = {\n",
    "    'bootstrap.servers': 'b-1.monstercluster1.6xql65.c3.kafka.eu-west-2.amazonaws.com:9092',  \n",
    "    'group.id': 'your_group_id',\n",
    "    'auto.offset.reset': 'earliest',\n",
    "}\n",
    "\n",
    "\n",
    "# set sample rate to 10%\n",
    "sample_rate = 0.5  # 10%\n",
    "sampled_data = []\n",
    "timer_duration = 2\n",
    "\n",
    "\n",
    "# create kafka consumer instance\n",
    "consumer = Consumer(conf)\n",
    "\n",
    "def consume_message(duration_minutes):\n",
    "    start_time = time.time()  # Record the start time\n",
    "    end_time = start_time + (duration_minutes * 60)  \n",
    "    consumer.subscribe(['monster-damage']) #consume messages from the monster-damage Kafka topic\n",
    "\n",
    "    while time.time() < end_time:\n",
    "        msg = consumer.poll(1.0) #checks for message with a timeout of 1.0 seconds.\n",
    "        if msg is None:\n",
    "            # print(\"message is None\") \n",
    "            continue  \n",
    "        if msg.error(): #checks if message contains an error \n",
    "            if msg.error().code() == KafkaError._PARTITION_EOF: # if error is an end of file error it continues the loop\n",
    "                continue\n",
    "            else:\n",
    "                print(msg.error()) # if error is not an end of file error it print the error and breaks the loop\n",
    "                break\n",
    "\n",
    "        if random.random() < sample_rate:\n",
    "            decoded_msg = json.loads(msg.value().decode('utf-8'))  # Decode the JSON message\n",
    "            print('Received message: {}'.format(decoded_msg))\n",
    "            sampled_data.append(decoded_msg)\n",
    "\n",
    "    consumer.close()\n",
    "\n",
    "# Allows you to interupt the cell without throwing an excpetion\n",
    "if __name__ == \"__main__\":\n",
    "    try:\n",
    "        consume_message(duration_minutes=timer_duration)\n",
    "    except KeyboardInterrupt:\n",
    "        pass"
   ]
  },
  {
   "cell_type": "code",
   "execution_count": 12,
   "metadata": {},
   "outputs": [
    {
     "data": {
      "text/plain": [
       "[{'country': 'Greenland',\n",
       "  'population': 0,\n",
       "  'monster_name': 'MYCONID-ADULT',\n",
       "  'damage': 26640,\n",
       "  'updated_population': 0,\n",
       "  'percent_loss': 100,\n",
       "  'ts': '2023-12-14 09:58:46.858038'},\n",
       " {'country': 'Indonesia',\n",
       "  'population': 272712914,\n",
       "  'monster_name': 'SHIELD-GUARDIAN',\n",
       "  'damage': 159840,\n",
       "  'updated_population': 272553074,\n",
       "  'percent_loss': 0.538,\n",
       "  'ts': '2023-12-14 09:58:57.524419'},\n",
       " {'country': 'Namibia',\n",
       "  'population': 2149063,\n",
       "  'monster_name': 'GRICK',\n",
       "  'damage': 186480,\n",
       "  'updated_population': 1962583,\n",
       "  'percent_loss': 27.271,\n",
       "  'ts': '2023-12-14 09:59:02.606922'},\n",
       " {'country': 'Russia',\n",
       "  'population': 136491654,\n",
       "  'monster_name': 'YUAN-TI-PIT-MASTER',\n",
       "  'damage': 26640,\n",
       "  'updated_population': 136465014,\n",
       "  'percent_loss': 6.946,\n",
       "  'ts': '2023-12-14 09:59:15.370191'},\n",
       " {'country': 'Algeria',\n",
       "  'population': 42995559,\n",
       "  'monster_name': 'LIZARD-KING-QUEEN',\n",
       "  'damage': 226440,\n",
       "  'updated_population': 42769119,\n",
       "  'percent_loss': 2.827,\n",
       "  'ts': '2023-12-14 09:59:18.449943'},\n",
       " {'country': 'Malaysia',\n",
       "  'population': 32436963,\n",
       "  'monster_name': 'AIR-ELEMENTAL',\n",
       "  'damage': 399600,\n",
       "  'updated_population': 32037363,\n",
       "  'percent_loss': 1.232,\n",
       "  'ts': '2023-12-14 09:59:22.027200'},\n",
       " {'country': 'Russia',\n",
       "  'population': 136465014,\n",
       "  'monster_name': 'YETH-HOUND',\n",
       "  'damage': 39960,\n",
       "  'updated_population': 136425054,\n",
       "  'percent_loss': 6.976,\n",
       "  'ts': '2023-12-14 09:59:25.610301'},\n",
       " {'country': 'Greenland',\n",
       "  'population': 0,\n",
       "  'monster_name': 'WARRIOR-LVL-4',\n",
       "  'damage': 26640,\n",
       "  'updated_population': 0,\n",
       "  'percent_loss': 100,\n",
       "  'ts': '2023-12-14 09:59:31.180369'},\n",
       " {'country': 'Pakistan',\n",
       "  'population': 221572825,\n",
       "  'monster_name': 'SHAMBLING-MOUND',\n",
       "  'damage': 159840,\n",
       "  'updated_population': 221412985,\n",
       "  'percent_loss': 0.09,\n",
       "  'ts': '2023-12-14 09:59:42.426007'},\n",
       " {'country': 'Venezuela',\n",
       "  'population': 28208461,\n",
       "  'monster_name': 'DEVILROOT',\n",
       "  'damage': 186480,\n",
       "  'updated_population': 28021981,\n",
       "  'percent_loss': 1.417,\n",
       "  'ts': '2023-12-14 09:59:45.999359'},\n",
       " {'country': 'Russia',\n",
       "  'population': 136105374,\n",
       "  'monster_name': 'ANKHEG',\n",
       "  'damage': 219780,\n",
       "  'updated_population': 135885594,\n",
       "  'percent_loss': 7.391,\n",
       "  'ts': '2023-12-14 09:59:57.270777'},\n",
       " {'country': 'China',\n",
       "  'population': 1437613845,\n",
       "  'monster_name': 'BONECLAW',\n",
       "  'damage': 39960,\n",
       "  'updated_population': 1437573885,\n",
       "  'percent_loss': 0.189,\n",
       "  'ts': '2023-12-14 10:00:00.369702'},\n",
       " {'country': 'Greenland',\n",
       "  'population': 0,\n",
       "  'monster_name': 'ORC-BLADE-OF-ILNEVAL',\n",
       "  'damage': 26640,\n",
       "  'updated_population': 0,\n",
       "  'percent_loss': 100,\n",
       "  'ts': '2023-12-14 10:00:06.439599'},\n",
       " {'country': 'Madagascar',\n",
       "  'population': 27781755,\n",
       "  'monster_name': 'GIBBERING-MOUTHER',\n",
       "  'damage': 133200,\n",
       "  'updated_population': 27648555,\n",
       "  'percent_loss': 0.575,\n",
       "  'ts': '2023-12-14 10:00:10.529097'},\n",
       " {'country': 'Indonesia',\n",
       "  'population': 272553074,\n",
       "  'monster_name': 'LIZARDFOLK',\n",
       "  'damage': 133200,\n",
       "  'updated_population': 272419874,\n",
       "  'percent_loss': 0.588,\n",
       "  'ts': '2023-12-14 10:00:14.612313'},\n",
       " {'country': 'Canada',\n",
       "  'population': 33383827,\n",
       "  'monster_name': 'GITHZERAI-ZERTH',\n",
       "  'damage': 26640,\n",
       "  'updated_population': 33357187,\n",
       "  'percent_loss': 13.307,\n",
       "  'ts': '2023-12-14 10:00:22.262064'},\n",
       " {'country': 'New Zealand',\n",
       "  'population': 4735781,\n",
       "  'monster_name': 'VAMPIRE-SPAWN',\n",
       "  'damage': 133200,\n",
       "  'updated_population': 4602581,\n",
       "  'percent_loss': 4.781,\n",
       "  'ts': '2023-12-14 10:00:30.405484'},\n",
       " {'country': 'Algeria',\n",
       "  'population': 42769119,\n",
       "  'monster_name': 'OTYUGH',\n",
       "  'damage': 319680,\n",
       "  'updated_population': 42449439,\n",
       "  'percent_loss': 3.589,\n",
       "  'ts': '2023-12-14 10:00:33.482414'},\n",
       " {'country': 'United States',\n",
       "  'population': 327911150,\n",
       "  'monster_name': 'WINGED-KOBOLD',\n",
       "  'damage': 53280,\n",
       "  'updated_population': 327857870,\n",
       "  'percent_loss': 1.062,\n",
       "  'ts': '2023-12-14 10:00:37.575092'},\n",
       " {'country': 'China',\n",
       "  'population': 1437573885,\n",
       "  'monster_name': 'TORTLE',\n",
       "  'damage': 26640,\n",
       "  'updated_population': 1437547245,\n",
       "  'percent_loss': 0.191,\n",
       "  'ts': '2023-12-14 10:00:50.308180'},\n",
       " {'country': 'United States',\n",
       "  'population': 327831230,\n",
       "  'monster_name': 'GIANT-FIRE-BEETLE',\n",
       "  'damage': 6660,\n",
       "  'updated_population': 327824570,\n",
       "  'percent_loss': 1.073,\n",
       "  'ts': '2023-12-14 10:00:59.451195'},\n",
       " {'country': 'Egypt',\n",
       "  'population': 101560226,\n",
       "  'monster_name': 'DEATH-KISS',\n",
       "  'damage': 39960,\n",
       "  'updated_population': 101520266,\n",
       "  'percent_loss': 1.121,\n",
       "  'ts': '2023-12-14 10:01:15.788107'},\n",
       " {'country': 'France',\n",
       "  'population': 64406490,\n",
       "  'monster_name': 'OBLEX-SPAWN',\n",
       "  'damage': 6660,\n",
       "  'updated_population': 64399830,\n",
       "  'percent_loss': 1.396,\n",
       "  'ts': '2023-12-14 10:01:19.389848'},\n",
       " {'country': 'Nigeria',\n",
       "  'population': 206771227,\n",
       "  'monster_name': 'BASILISK',\n",
       "  'damage': 213120,\n",
       "  'updated_population': 206558107,\n",
       "  'percent_loss': 0.206,\n",
       "  'ts': '2023-12-14 10:01:47.277321'}]"
      ]
     },
     "execution_count": 12,
     "metadata": {},
     "output_type": "execute_result"
    }
   ],
   "source": [
    "sampled_data"
   ]
  },
  {
   "cell_type": "code",
   "execution_count": 13,
   "metadata": {},
   "outputs": [
    {
     "data": {
      "text/plain": [
       "24"
      ]
     },
     "execution_count": 13,
     "metadata": {},
     "output_type": "execute_result"
    }
   ],
   "source": [
    "len(sampled_data)"
   ]
  },
  {
   "cell_type": "code",
   "execution_count": 6,
   "metadata": {},
   "outputs": [],
   "source": [
    "import pandas as pd"
   ]
  },
  {
   "cell_type": "code",
   "execution_count": 14,
   "metadata": {},
   "outputs": [],
   "source": [
    "df = pd.DataFrame(sampled_data)"
   ]
  },
  {
   "cell_type": "code",
   "execution_count": 16,
   "metadata": {},
   "outputs": [
    {
     "data": {
      "text/html": [
       "<div>\n",
       "<style scoped>\n",
       "    .dataframe tbody tr th:only-of-type {\n",
       "        vertical-align: middle;\n",
       "    }\n",
       "\n",
       "    .dataframe tbody tr th {\n",
       "        vertical-align: top;\n",
       "    }\n",
       "\n",
       "    .dataframe thead th {\n",
       "        text-align: right;\n",
       "    }\n",
       "</style>\n",
       "<table border=\"1\" class=\"dataframe\">\n",
       "  <thead>\n",
       "    <tr style=\"text-align: right;\">\n",
       "      <th></th>\n",
       "      <th>country</th>\n",
       "      <th>population</th>\n",
       "      <th>monster_name</th>\n",
       "      <th>damage</th>\n",
       "      <th>updated_population</th>\n",
       "      <th>percent_loss</th>\n",
       "      <th>ts</th>\n",
       "    </tr>\n",
       "  </thead>\n",
       "  <tbody>\n",
       "    <tr>\n",
       "      <th>0</th>\n",
       "      <td>Greenland</td>\n",
       "      <td>0</td>\n",
       "      <td>MYCONID-ADULT</td>\n",
       "      <td>26640</td>\n",
       "      <td>0</td>\n",
       "      <td>100.000</td>\n",
       "      <td>2023-12-14 09:58:46.858038</td>\n",
       "    </tr>\n",
       "    <tr>\n",
       "      <th>1</th>\n",
       "      <td>Indonesia</td>\n",
       "      <td>272712914</td>\n",
       "      <td>SHIELD-GUARDIAN</td>\n",
       "      <td>159840</td>\n",
       "      <td>272553074</td>\n",
       "      <td>0.538</td>\n",
       "      <td>2023-12-14 09:58:57.524419</td>\n",
       "    </tr>\n",
       "    <tr>\n",
       "      <th>2</th>\n",
       "      <td>Namibia</td>\n",
       "      <td>2149063</td>\n",
       "      <td>GRICK</td>\n",
       "      <td>186480</td>\n",
       "      <td>1962583</td>\n",
       "      <td>27.271</td>\n",
       "      <td>2023-12-14 09:59:02.606922</td>\n",
       "    </tr>\n",
       "    <tr>\n",
       "      <th>3</th>\n",
       "      <td>Russia</td>\n",
       "      <td>136491654</td>\n",
       "      <td>YUAN-TI-PIT-MASTER</td>\n",
       "      <td>26640</td>\n",
       "      <td>136465014</td>\n",
       "      <td>6.946</td>\n",
       "      <td>2023-12-14 09:59:15.370191</td>\n",
       "    </tr>\n",
       "    <tr>\n",
       "      <th>4</th>\n",
       "      <td>Algeria</td>\n",
       "      <td>42995559</td>\n",
       "      <td>LIZARD-KING-QUEEN</td>\n",
       "      <td>226440</td>\n",
       "      <td>42769119</td>\n",
       "      <td>2.827</td>\n",
       "      <td>2023-12-14 09:59:18.449943</td>\n",
       "    </tr>\n",
       "    <tr>\n",
       "      <th>5</th>\n",
       "      <td>Malaysia</td>\n",
       "      <td>32436963</td>\n",
       "      <td>AIR-ELEMENTAL</td>\n",
       "      <td>399600</td>\n",
       "      <td>32037363</td>\n",
       "      <td>1.232</td>\n",
       "      <td>2023-12-14 09:59:22.027200</td>\n",
       "    </tr>\n",
       "    <tr>\n",
       "      <th>6</th>\n",
       "      <td>Russia</td>\n",
       "      <td>136465014</td>\n",
       "      <td>YETH-HOUND</td>\n",
       "      <td>39960</td>\n",
       "      <td>136425054</td>\n",
       "      <td>6.976</td>\n",
       "      <td>2023-12-14 09:59:25.610301</td>\n",
       "    </tr>\n",
       "    <tr>\n",
       "      <th>7</th>\n",
       "      <td>Greenland</td>\n",
       "      <td>0</td>\n",
       "      <td>WARRIOR-LVL-4</td>\n",
       "      <td>26640</td>\n",
       "      <td>0</td>\n",
       "      <td>100.000</td>\n",
       "      <td>2023-12-14 09:59:31.180369</td>\n",
       "    </tr>\n",
       "    <tr>\n",
       "      <th>8</th>\n",
       "      <td>Pakistan</td>\n",
       "      <td>221572825</td>\n",
       "      <td>SHAMBLING-MOUND</td>\n",
       "      <td>159840</td>\n",
       "      <td>221412985</td>\n",
       "      <td>0.090</td>\n",
       "      <td>2023-12-14 09:59:42.426007</td>\n",
       "    </tr>\n",
       "    <tr>\n",
       "      <th>9</th>\n",
       "      <td>Venezuela</td>\n",
       "      <td>28208461</td>\n",
       "      <td>DEVILROOT</td>\n",
       "      <td>186480</td>\n",
       "      <td>28021981</td>\n",
       "      <td>1.417</td>\n",
       "      <td>2023-12-14 09:59:45.999359</td>\n",
       "    </tr>\n",
       "    <tr>\n",
       "      <th>10</th>\n",
       "      <td>Russia</td>\n",
       "      <td>136105374</td>\n",
       "      <td>ANKHEG</td>\n",
       "      <td>219780</td>\n",
       "      <td>135885594</td>\n",
       "      <td>7.391</td>\n",
       "      <td>2023-12-14 09:59:57.270777</td>\n",
       "    </tr>\n",
       "    <tr>\n",
       "      <th>11</th>\n",
       "      <td>China</td>\n",
       "      <td>1437613845</td>\n",
       "      <td>BONECLAW</td>\n",
       "      <td>39960</td>\n",
       "      <td>1437573885</td>\n",
       "      <td>0.189</td>\n",
       "      <td>2023-12-14 10:00:00.369702</td>\n",
       "    </tr>\n",
       "    <tr>\n",
       "      <th>12</th>\n",
       "      <td>Greenland</td>\n",
       "      <td>0</td>\n",
       "      <td>ORC-BLADE-OF-ILNEVAL</td>\n",
       "      <td>26640</td>\n",
       "      <td>0</td>\n",
       "      <td>100.000</td>\n",
       "      <td>2023-12-14 10:00:06.439599</td>\n",
       "    </tr>\n",
       "    <tr>\n",
       "      <th>13</th>\n",
       "      <td>Madagascar</td>\n",
       "      <td>27781755</td>\n",
       "      <td>GIBBERING-MOUTHER</td>\n",
       "      <td>133200</td>\n",
       "      <td>27648555</td>\n",
       "      <td>0.575</td>\n",
       "      <td>2023-12-14 10:00:10.529097</td>\n",
       "    </tr>\n",
       "    <tr>\n",
       "      <th>14</th>\n",
       "      <td>Indonesia</td>\n",
       "      <td>272553074</td>\n",
       "      <td>LIZARDFOLK</td>\n",
       "      <td>133200</td>\n",
       "      <td>272419874</td>\n",
       "      <td>0.588</td>\n",
       "      <td>2023-12-14 10:00:14.612313</td>\n",
       "    </tr>\n",
       "    <tr>\n",
       "      <th>15</th>\n",
       "      <td>Canada</td>\n",
       "      <td>33383827</td>\n",
       "      <td>GITHZERAI-ZERTH</td>\n",
       "      <td>26640</td>\n",
       "      <td>33357187</td>\n",
       "      <td>13.307</td>\n",
       "      <td>2023-12-14 10:00:22.262064</td>\n",
       "    </tr>\n",
       "    <tr>\n",
       "      <th>16</th>\n",
       "      <td>New Zealand</td>\n",
       "      <td>4735781</td>\n",
       "      <td>VAMPIRE-SPAWN</td>\n",
       "      <td>133200</td>\n",
       "      <td>4602581</td>\n",
       "      <td>4.781</td>\n",
       "      <td>2023-12-14 10:00:30.405484</td>\n",
       "    </tr>\n",
       "    <tr>\n",
       "      <th>17</th>\n",
       "      <td>Algeria</td>\n",
       "      <td>42769119</td>\n",
       "      <td>OTYUGH</td>\n",
       "      <td>319680</td>\n",
       "      <td>42449439</td>\n",
       "      <td>3.589</td>\n",
       "      <td>2023-12-14 10:00:33.482414</td>\n",
       "    </tr>\n",
       "    <tr>\n",
       "      <th>18</th>\n",
       "      <td>United States</td>\n",
       "      <td>327911150</td>\n",
       "      <td>WINGED-KOBOLD</td>\n",
       "      <td>53280</td>\n",
       "      <td>327857870</td>\n",
       "      <td>1.062</td>\n",
       "      <td>2023-12-14 10:00:37.575092</td>\n",
       "    </tr>\n",
       "    <tr>\n",
       "      <th>19</th>\n",
       "      <td>China</td>\n",
       "      <td>1437573885</td>\n",
       "      <td>TORTLE</td>\n",
       "      <td>26640</td>\n",
       "      <td>1437547245</td>\n",
       "      <td>0.191</td>\n",
       "      <td>2023-12-14 10:00:50.308180</td>\n",
       "    </tr>\n",
       "    <tr>\n",
       "      <th>20</th>\n",
       "      <td>United States</td>\n",
       "      <td>327831230</td>\n",
       "      <td>GIANT-FIRE-BEETLE</td>\n",
       "      <td>6660</td>\n",
       "      <td>327824570</td>\n",
       "      <td>1.073</td>\n",
       "      <td>2023-12-14 10:00:59.451195</td>\n",
       "    </tr>\n",
       "    <tr>\n",
       "      <th>21</th>\n",
       "      <td>Egypt</td>\n",
       "      <td>101560226</td>\n",
       "      <td>DEATH-KISS</td>\n",
       "      <td>39960</td>\n",
       "      <td>101520266</td>\n",
       "      <td>1.121</td>\n",
       "      <td>2023-12-14 10:01:15.788107</td>\n",
       "    </tr>\n",
       "    <tr>\n",
       "      <th>22</th>\n",
       "      <td>France</td>\n",
       "      <td>64406490</td>\n",
       "      <td>OBLEX-SPAWN</td>\n",
       "      <td>6660</td>\n",
       "      <td>64399830</td>\n",
       "      <td>1.396</td>\n",
       "      <td>2023-12-14 10:01:19.389848</td>\n",
       "    </tr>\n",
       "    <tr>\n",
       "      <th>23</th>\n",
       "      <td>Nigeria</td>\n",
       "      <td>206771227</td>\n",
       "      <td>BASILISK</td>\n",
       "      <td>213120</td>\n",
       "      <td>206558107</td>\n",
       "      <td>0.206</td>\n",
       "      <td>2023-12-14 10:01:47.277321</td>\n",
       "    </tr>\n",
       "  </tbody>\n",
       "</table>\n",
       "</div>"
      ],
      "text/plain": [
       "          country  population          monster_name  damage  \\\n",
       "0       Greenland           0         MYCONID-ADULT   26640   \n",
       "1       Indonesia   272712914       SHIELD-GUARDIAN  159840   \n",
       "2         Namibia     2149063                 GRICK  186480   \n",
       "3          Russia   136491654    YUAN-TI-PIT-MASTER   26640   \n",
       "4         Algeria    42995559     LIZARD-KING-QUEEN  226440   \n",
       "5        Malaysia    32436963         AIR-ELEMENTAL  399600   \n",
       "6          Russia   136465014            YETH-HOUND   39960   \n",
       "7       Greenland           0         WARRIOR-LVL-4   26640   \n",
       "8        Pakistan   221572825       SHAMBLING-MOUND  159840   \n",
       "9       Venezuela    28208461             DEVILROOT  186480   \n",
       "10         Russia   136105374                ANKHEG  219780   \n",
       "11          China  1437613845              BONECLAW   39960   \n",
       "12      Greenland           0  ORC-BLADE-OF-ILNEVAL   26640   \n",
       "13     Madagascar    27781755     GIBBERING-MOUTHER  133200   \n",
       "14      Indonesia   272553074            LIZARDFOLK  133200   \n",
       "15         Canada    33383827       GITHZERAI-ZERTH   26640   \n",
       "16    New Zealand     4735781         VAMPIRE-SPAWN  133200   \n",
       "17        Algeria    42769119                OTYUGH  319680   \n",
       "18  United States   327911150         WINGED-KOBOLD   53280   \n",
       "19          China  1437573885                TORTLE   26640   \n",
       "20  United States   327831230     GIANT-FIRE-BEETLE    6660   \n",
       "21          Egypt   101560226            DEATH-KISS   39960   \n",
       "22         France    64406490           OBLEX-SPAWN    6660   \n",
       "23        Nigeria   206771227              BASILISK  213120   \n",
       "\n",
       "    updated_population  percent_loss                          ts  \n",
       "0                    0       100.000  2023-12-14 09:58:46.858038  \n",
       "1            272553074         0.538  2023-12-14 09:58:57.524419  \n",
       "2              1962583        27.271  2023-12-14 09:59:02.606922  \n",
       "3            136465014         6.946  2023-12-14 09:59:15.370191  \n",
       "4             42769119         2.827  2023-12-14 09:59:18.449943  \n",
       "5             32037363         1.232  2023-12-14 09:59:22.027200  \n",
       "6            136425054         6.976  2023-12-14 09:59:25.610301  \n",
       "7                    0       100.000  2023-12-14 09:59:31.180369  \n",
       "8            221412985         0.090  2023-12-14 09:59:42.426007  \n",
       "9             28021981         1.417  2023-12-14 09:59:45.999359  \n",
       "10           135885594         7.391  2023-12-14 09:59:57.270777  \n",
       "11          1437573885         0.189  2023-12-14 10:00:00.369702  \n",
       "12                   0       100.000  2023-12-14 10:00:06.439599  \n",
       "13            27648555         0.575  2023-12-14 10:00:10.529097  \n",
       "14           272419874         0.588  2023-12-14 10:00:14.612313  \n",
       "15            33357187        13.307  2023-12-14 10:00:22.262064  \n",
       "16             4602581         4.781  2023-12-14 10:00:30.405484  \n",
       "17            42449439         3.589  2023-12-14 10:00:33.482414  \n",
       "18           327857870         1.062  2023-12-14 10:00:37.575092  \n",
       "19          1437547245         0.191  2023-12-14 10:00:50.308180  \n",
       "20           327824570         1.073  2023-12-14 10:00:59.451195  \n",
       "21           101520266         1.121  2023-12-14 10:01:15.788107  \n",
       "22            64399830         1.396  2023-12-14 10:01:19.389848  \n",
       "23           206558107         0.206  2023-12-14 10:01:47.277321  "
      ]
     },
     "execution_count": 16,
     "metadata": {},
     "output_type": "execute_result"
    }
   ],
   "source": [
    "df"
   ]
  },
  {
   "cell_type": "markdown",
   "metadata": {},
   "source": [
    "## Exercise One"
   ]
  },
  {
   "cell_type": "markdown",
   "metadata": {},
   "source": [
    "Objective: Basic Descriptions\n",
    "\n",
    "1 A: Calculate and report the number of unique monsters appearing in your sample."
   ]
  },
  {
   "cell_type": "code",
   "execution_count": 21,
   "metadata": {},
   "outputs": [
    {
     "data": {
      "text/plain": [
       "MYCONID-ADULT           1\n",
       "SHIELD-GUARDIAN         1\n",
       "OBLEX-SPAWN             1\n",
       "DEATH-KISS              1\n",
       "GIANT-FIRE-BEETLE       1\n",
       "TORTLE                  1\n",
       "WINGED-KOBOLD           1\n",
       "OTYUGH                  1\n",
       "VAMPIRE-SPAWN           1\n",
       "GITHZERAI-ZERTH         1\n",
       "LIZARDFOLK              1\n",
       "GIBBERING-MOUTHER       1\n",
       "ORC-BLADE-OF-ILNEVAL    1\n",
       "BONECLAW                1\n",
       "ANKHEG                  1\n",
       "DEVILROOT               1\n",
       "SHAMBLING-MOUND         1\n",
       "WARRIOR-LVL-4           1\n",
       "YETH-HOUND              1\n",
       "AIR-ELEMENTAL           1\n",
       "LIZARD-KING-QUEEN       1\n",
       "YUAN-TI-PIT-MASTER      1\n",
       "GRICK                   1\n",
       "BASILISK                1\n",
       "Name: monster_name, dtype: int64"
      ]
     },
     "execution_count": 21,
     "metadata": {},
     "output_type": "execute_result"
    }
   ],
   "source": [
    "df['monster_name'].value_counts()"
   ]
  },
  {
   "cell_type": "code",
   "execution_count": 23,
   "metadata": {},
   "outputs": [
    {
     "data": {
      "text/plain": [
       "24"
      ]
     },
     "execution_count": 23,
     "metadata": {},
     "output_type": "execute_result"
    }
   ],
   "source": [
    "num_unique_monsters = len(df['monster_name'].unique())\n",
    "num_unique_monsters"
   ]
  },
  {
   "cell_type": "markdown",
   "metadata": {},
   "source": [
    "There are 24 unique monsters in the sample\n"
   ]
  },
  {
   "cell_type": "markdown",
   "metadata": {},
   "source": [
    "1 B: Find the average, minimum, and maximum damage caused by monsters in the sampled data.\n",
    "\n"
   ]
  },
  {
   "cell_type": "code",
   "execution_count": 26,
   "metadata": {},
   "outputs": [
    {
     "data": {
      "text/plain": [
       "117382.5"
      ]
     },
     "execution_count": 26,
     "metadata": {},
     "output_type": "execute_result"
    }
   ],
   "source": [
    "df.damage.mean()"
   ]
  },
  {
   "cell_type": "code",
   "execution_count": 27,
   "metadata": {},
   "outputs": [
    {
     "data": {
      "text/plain": [
       "6660"
      ]
     },
     "execution_count": 27,
     "metadata": {},
     "output_type": "execute_result"
    }
   ],
   "source": [
    "df.damage.min()"
   ]
  },
  {
   "cell_type": "code",
   "execution_count": 28,
   "metadata": {},
   "outputs": [
    {
     "data": {
      "text/plain": [
       "399600"
      ]
     },
     "execution_count": 28,
     "metadata": {},
     "output_type": "execute_result"
    }
   ],
   "source": [
    "df.damage.max()"
   ]
  },
  {
   "cell_type": "markdown",
   "metadata": {},
   "source": [
    "## Exercise Two"
   ]
  },
  {
   "cell_type": "markdown",
   "metadata": {},
   "source": [
    "Objective: Spot Anomalies\n",
    "\n",
    "\n",
    "2 A: Identify if there are any monsters that cause significantly more damage than others in the sampled data."
   ]
  },
  {
   "cell_type": "markdown",
   "metadata": {},
   "source": [
    "Display all monsters whos damage is 1.5 times the average amount"
   ]
  },
  {
   "cell_type": "code",
   "execution_count": 29,
   "metadata": {},
   "outputs": [
    {
     "data": {
      "text/html": [
       "<div>\n",
       "<style scoped>\n",
       "    .dataframe tbody tr th:only-of-type {\n",
       "        vertical-align: middle;\n",
       "    }\n",
       "\n",
       "    .dataframe tbody tr th {\n",
       "        vertical-align: top;\n",
       "    }\n",
       "\n",
       "    .dataframe thead th {\n",
       "        text-align: right;\n",
       "    }\n",
       "</style>\n",
       "<table border=\"1\" class=\"dataframe\">\n",
       "  <thead>\n",
       "    <tr style=\"text-align: right;\">\n",
       "      <th></th>\n",
       "      <th>country</th>\n",
       "      <th>population</th>\n",
       "      <th>monster_name</th>\n",
       "      <th>damage</th>\n",
       "      <th>updated_population</th>\n",
       "      <th>percent_loss</th>\n",
       "      <th>ts</th>\n",
       "    </tr>\n",
       "  </thead>\n",
       "  <tbody>\n",
       "    <tr>\n",
       "      <th>2</th>\n",
       "      <td>Namibia</td>\n",
       "      <td>2149063</td>\n",
       "      <td>GRICK</td>\n",
       "      <td>186480</td>\n",
       "      <td>1962583</td>\n",
       "      <td>27.271</td>\n",
       "      <td>2023-12-14 09:59:02.606922</td>\n",
       "    </tr>\n",
       "    <tr>\n",
       "      <th>4</th>\n",
       "      <td>Algeria</td>\n",
       "      <td>42995559</td>\n",
       "      <td>LIZARD-KING-QUEEN</td>\n",
       "      <td>226440</td>\n",
       "      <td>42769119</td>\n",
       "      <td>2.827</td>\n",
       "      <td>2023-12-14 09:59:18.449943</td>\n",
       "    </tr>\n",
       "    <tr>\n",
       "      <th>5</th>\n",
       "      <td>Malaysia</td>\n",
       "      <td>32436963</td>\n",
       "      <td>AIR-ELEMENTAL</td>\n",
       "      <td>399600</td>\n",
       "      <td>32037363</td>\n",
       "      <td>1.232</td>\n",
       "      <td>2023-12-14 09:59:22.027200</td>\n",
       "    </tr>\n",
       "    <tr>\n",
       "      <th>9</th>\n",
       "      <td>Venezuela</td>\n",
       "      <td>28208461</td>\n",
       "      <td>DEVILROOT</td>\n",
       "      <td>186480</td>\n",
       "      <td>28021981</td>\n",
       "      <td>1.417</td>\n",
       "      <td>2023-12-14 09:59:45.999359</td>\n",
       "    </tr>\n",
       "    <tr>\n",
       "      <th>10</th>\n",
       "      <td>Russia</td>\n",
       "      <td>136105374</td>\n",
       "      <td>ANKHEG</td>\n",
       "      <td>219780</td>\n",
       "      <td>135885594</td>\n",
       "      <td>7.391</td>\n",
       "      <td>2023-12-14 09:59:57.270777</td>\n",
       "    </tr>\n",
       "    <tr>\n",
       "      <th>17</th>\n",
       "      <td>Algeria</td>\n",
       "      <td>42769119</td>\n",
       "      <td>OTYUGH</td>\n",
       "      <td>319680</td>\n",
       "      <td>42449439</td>\n",
       "      <td>3.589</td>\n",
       "      <td>2023-12-14 10:00:33.482414</td>\n",
       "    </tr>\n",
       "    <tr>\n",
       "      <th>23</th>\n",
       "      <td>Nigeria</td>\n",
       "      <td>206771227</td>\n",
       "      <td>BASILISK</td>\n",
       "      <td>213120</td>\n",
       "      <td>206558107</td>\n",
       "      <td>0.206</td>\n",
       "      <td>2023-12-14 10:01:47.277321</td>\n",
       "    </tr>\n",
       "  </tbody>\n",
       "</table>\n",
       "</div>"
      ],
      "text/plain": [
       "      country  population       monster_name  damage  updated_population  \\\n",
       "2     Namibia     2149063              GRICK  186480             1962583   \n",
       "4     Algeria    42995559  LIZARD-KING-QUEEN  226440            42769119   \n",
       "5    Malaysia    32436963      AIR-ELEMENTAL  399600            32037363   \n",
       "9   Venezuela    28208461          DEVILROOT  186480            28021981   \n",
       "10     Russia   136105374             ANKHEG  219780           135885594   \n",
       "17    Algeria    42769119             OTYUGH  319680            42449439   \n",
       "23    Nigeria   206771227           BASILISK  213120           206558107   \n",
       "\n",
       "    percent_loss                          ts  \n",
       "2         27.271  2023-12-14 09:59:02.606922  \n",
       "4          2.827  2023-12-14 09:59:18.449943  \n",
       "5          1.232  2023-12-14 09:59:22.027200  \n",
       "9          1.417  2023-12-14 09:59:45.999359  \n",
       "10         7.391  2023-12-14 09:59:57.270777  \n",
       "17         3.589  2023-12-14 10:00:33.482414  \n",
       "23         0.206  2023-12-14 10:01:47.277321  "
      ]
     },
     "execution_count": 29,
     "metadata": {},
     "output_type": "execute_result"
    }
   ],
   "source": [
    "df[df['damage']> (df.damage.mean()*1.5 )]"
   ]
  },
  {
   "cell_type": "markdown",
   "metadata": {},
   "source": [
    "2 B: Check if there's any continent or country that's being disproportionately affected."
   ]
  },
  {
   "cell_type": "code",
   "execution_count": 30,
   "metadata": {},
   "outputs": [
    {
     "data": {
      "text/html": [
       "<div>\n",
       "<style scoped>\n",
       "    .dataframe tbody tr th:only-of-type {\n",
       "        vertical-align: middle;\n",
       "    }\n",
       "\n",
       "    .dataframe tbody tr th {\n",
       "        vertical-align: top;\n",
       "    }\n",
       "\n",
       "    .dataframe thead th {\n",
       "        text-align: right;\n",
       "    }\n",
       "</style>\n",
       "<table border=\"1\" class=\"dataframe\">\n",
       "  <thead>\n",
       "    <tr style=\"text-align: right;\">\n",
       "      <th></th>\n",
       "      <th>country</th>\n",
       "      <th>population</th>\n",
       "      <th>monster_name</th>\n",
       "      <th>damage</th>\n",
       "      <th>updated_population</th>\n",
       "      <th>percent_loss</th>\n",
       "      <th>ts</th>\n",
       "    </tr>\n",
       "  </thead>\n",
       "  <tbody>\n",
       "    <tr>\n",
       "      <th>0</th>\n",
       "      <td>Greenland</td>\n",
       "      <td>0</td>\n",
       "      <td>MYCONID-ADULT</td>\n",
       "      <td>26640</td>\n",
       "      <td>0</td>\n",
       "      <td>100.000</td>\n",
       "      <td>2023-12-14 09:58:46.858038</td>\n",
       "    </tr>\n",
       "    <tr>\n",
       "      <th>2</th>\n",
       "      <td>Namibia</td>\n",
       "      <td>2149063</td>\n",
       "      <td>GRICK</td>\n",
       "      <td>186480</td>\n",
       "      <td>1962583</td>\n",
       "      <td>27.271</td>\n",
       "      <td>2023-12-14 09:59:02.606922</td>\n",
       "    </tr>\n",
       "    <tr>\n",
       "      <th>7</th>\n",
       "      <td>Greenland</td>\n",
       "      <td>0</td>\n",
       "      <td>WARRIOR-LVL-4</td>\n",
       "      <td>26640</td>\n",
       "      <td>0</td>\n",
       "      <td>100.000</td>\n",
       "      <td>2023-12-14 09:59:31.180369</td>\n",
       "    </tr>\n",
       "    <tr>\n",
       "      <th>12</th>\n",
       "      <td>Greenland</td>\n",
       "      <td>0</td>\n",
       "      <td>ORC-BLADE-OF-ILNEVAL</td>\n",
       "      <td>26640</td>\n",
       "      <td>0</td>\n",
       "      <td>100.000</td>\n",
       "      <td>2023-12-14 10:00:06.439599</td>\n",
       "    </tr>\n",
       "  </tbody>\n",
       "</table>\n",
       "</div>"
      ],
      "text/plain": [
       "      country  population          monster_name  damage  updated_population  \\\n",
       "0   Greenland           0         MYCONID-ADULT   26640                   0   \n",
       "2     Namibia     2149063                 GRICK  186480             1962583   \n",
       "7   Greenland           0         WARRIOR-LVL-4   26640                   0   \n",
       "12  Greenland           0  ORC-BLADE-OF-ILNEVAL   26640                   0   \n",
       "\n",
       "    percent_loss                          ts  \n",
       "0        100.000  2023-12-14 09:58:46.858038  \n",
       "2         27.271  2023-12-14 09:59:02.606922  \n",
       "7        100.000  2023-12-14 09:59:31.180369  \n",
       "12       100.000  2023-12-14 10:00:06.439599  "
      ]
     },
     "execution_count": 30,
     "metadata": {},
     "output_type": "execute_result"
    }
   ],
   "source": [
    "df[df['percent_loss']> (df.percent_loss.mean()*1.5 )]"
   ]
  },
  {
   "cell_type": "markdown",
   "metadata": {},
   "source": [
    "## Exercise Three"
   ]
  },
  {
   "cell_type": "code",
   "execution_count": 31,
   "metadata": {},
   "outputs": [],
   "source": [
    "import matplotlib.pyplot as plt"
   ]
  },
  {
   "cell_type": "markdown",
   "metadata": {},
   "source": [
    "Objective: Visualisation\n",
    "\n",
    "3 A: Plot a histogram of the damages caused by monsters to understand its distribution."
   ]
  },
  {
   "cell_type": "markdown",
   "metadata": {},
   "source": [
    "A histogram is divided into a set number of bins (intervals) and the histogram is constructed based on the frequenct of the data falling into each of those bins.\n",
    "\n",
    "- A higher number of bins - gives more detail but can also introduce noise making it harder to spot trends\n",
    "- A lower number of bins - more generalised view of the data (less detail) but may smooth out noise"
   ]
  },
  {
   "cell_type": "code",
   "execution_count": 36,
   "metadata": {},
   "outputs": [
    {
     "data": {
      "image/png": "[encoded data removed]",
      "text/plain": [
       "<Figure size 1000x600 with 1 Axes>"
      ]
     },
     "metadata": {},
     "output_type": "display_data"
    }
   ],
   "source": [
    "# Plot histogram of damages\n",
    "plt.figure(figsize=(10, 6))\n",
    "plt.hist(df['damage'], bins=10, color='skyblue', edgecolor='black')\n",
    "plt.title('Distribution of Damages Caused by Monsters')\n",
    "plt.xlabel('Damage')\n",
    "plt.ylabel('Frequency')\n",
    "plt.grid(axis='y', linestyle='--', alpha=0.7)\n",
    "plt.show()"
   ]
  },
  {
   "cell_type": "markdown",
   "metadata": {},
   "source": [
    "Same plot but with 5 bins, shows a clear trend than the majority of monsters have less than 100000 damage"
   ]
  },
  {
   "cell_type": "code",
   "execution_count": 37,
   "metadata": {},
   "outputs": [
    {
     "data": {
      "image/png": "[encoded data removed]",
      "text/plain": [
       "<Figure size 1000x600 with 1 Axes>"
      ]
     },
     "metadata": {},
     "output_type": "display_data"
    }
   ],
   "source": [
    "# Plot histogram of damages\n",
    "plt.figure(figsize=(10, 6))\n",
    "plt.hist(df['damage'], bins=5, color='skyblue', edgecolor='black')\n",
    "plt.title('Distribution of Damages Caused by Monsters')\n",
    "plt.xlabel('Damage')\n",
    "plt.ylabel('Frequency')\n",
    "plt.grid(axis='y', linestyle='--', alpha=0.7)\n",
    "plt.show()"
   ]
  },
  {
   "cell_type": "markdown",
   "metadata": {},
   "source": [
    "3 B: Plot a time series chart to see if there's any pattern or specific times when damages spike.\n",
    "\n"
   ]
  },
  {
   "cell_type": "code",
   "execution_count": 38,
   "metadata": {},
   "outputs": [
    {
     "data": {
      "image/png": "[encoded data removed]",
      "text/plain": [
       "<Figure size 1200x600 with 1 Axes>"
      ]
     },
     "metadata": {},
     "output_type": "display_data"
    }
   ],
   "source": [
    "df['ts'] = pd.to_datetime(df['ts'])\n",
    "\n",
    "# Plot time series chart\n",
    "plt.figure(figsize=(12, 6))\n",
    "plt.plot(df['ts'], df['damage'], marker='o', linestyle='-', color='b')\n",
    "plt.title('Damage Over Time')\n",
    "plt.xlabel('Timestamp')\n",
    "plt.ylabel('Damage')\n",
    "plt.grid(True)\n",
    "plt.show()"
   ]
  },
  {
   "cell_type": "markdown",
   "metadata": {},
   "source": []
  }
 ],
 "metadata": {
  "kernelspec": {
   "display_name": "Python 3",
   "language": "python",
   "name": "python3"
  },
  "language_info": {
   "codemirror_mode": {
    "name": "ipython",
    "version": 3
   },
   "file_extension": ".py",
   "mimetype": "text/x-python",
   "name": "python",
   "nbconvert_exporter": "python",
   "pygments_lexer": "ipython3",
   "version": "3.7.16"
  }
 },
 "nbformat": 4,
 "nbformat_minor": 2
}
