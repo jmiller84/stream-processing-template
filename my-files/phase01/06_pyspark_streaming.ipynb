{
 "cells": [
  {
   "cell_type": "code",
   "execution_count": 1,
   "metadata": {},
   "outputs": [],
   "source": [
    "from pyspark.sql import SparkSession\n",
    "from pyspark.sql.types import StringType, StructType, StructField, TimestampType, IntegerType\n",
    "from pyspark.sql.functions import from_json, col, avg, sum, window, round\n",
    "from pyspark.sql import functions as F\n",
    "from pyspark.sql.window import Window\n",
    "import time\n",
    "import matplotlib.pyplot as plt\n",
    "import pandas as pd"
   ]
  },
  {
   "cell_type": "code",
   "execution_count": 2,
   "metadata": {},
   "outputs": [
    {
     "name": "stderr",
     "output_type": "stream",
     "text": [
      "23/12/13 15:54:37 WARN NativeCodeLoader: Unable to load native-hadoop library for your platform... using builtin-java classes where applicable\n",
      "Setting default log level to \"WARN\".\n",
      "To adjust logging level use sc.setLogLevel(newLevel). For SparkR, use setLogLevel(newLevel).\n",
      "/usr/local/lib/python3.7/site-packages/pyspark/context.py:317: FutureWarning: Python 3.7 support is deprecated in Spark 3.4.\n",
      "  warnings.warn(\"Python 3.7 support is deprecated in Spark 3.4.\", FutureWarning)\n"
     ]
    }
   ],
   "source": [
    "\n",
    "# Define the path to the jars on the EC2 instance\n",
    "spark_jars_path = \"/home/ec2-user/stream-processing-template/jars\"  # <-- Update this path\n",
    "\n",
    "spark = SparkSession.builder.appName(\"retail_pysaprk_consumer\") \\\n",
    "    .config(\"spark.jars\", f\"{spark_jars_path}/commons-pool2-2.11.1.jar,\"\n",
    "            f\"{spark_jars_path}/spark-sql-kafka-0-10_2.12-3.4.0.jar,\"\n",
    "            f\"{spark_jars_path}/spark-streaming-kafka-0-10-assembly_2.12-3.4.0.jar\") \\\n",
    "    .getOrCreate()\n"
   ]
  },
  {
   "cell_type": "code",
   "execution_count": 3,
   "metadata": {},
   "outputs": [],
   "source": [
    "# Define the schema for our data (Column names and Datatype for each column)\n",
    "schema = StructType([\n",
    "    StructField(\"store_location\", StringType(), True),\n",
    "    StructField(\"time_of_purchase\", TimestampType(), True),\n",
    "    StructField(\"product_ID\", StringType(), True),\n",
    "    StructField(\"transaction_amount\", IntegerType(), True)\n",
    "])\n",
    "\n",
    "# Stream from Kafka topic\n",
    "\n",
    "# initalise a spark object and read the stream of data using the readStream method\n",
    "# set the format of the streaming source to kafka\n",
    "# set the kafka topic to retail_transactions (topic is a feed name to which messages are published)\n",
    "# load the data and store it in the df variable\n",
    "df = spark.readStream \\\n",
    "    .format(\"kafka\") \\\n",
    "    .option(\"kafka.bootstrap.servers\", \"b-1.monstercluster1.6xql65.c3.kafka.eu-west-2.amazonaws.com:9092\") \\\n",
    "    .option(\"subscribe\", \"retail_transactions\") \\\n",
    "    .load()"
   ]
  },
  {
   "cell_type": "code",
   "execution_count": 4,
   "metadata": {},
   "outputs": [
    {
     "name": "stderr",
     "output_type": "stream",
     "text": [
      "23/12/13 15:54:53 WARN ResolveWriteToStream: Temporary checkpoint location created which is deleted normally when the query didn't fail: /tmp/temporary-d370429f-7cd6-4928-a0bc-ab3763d70de2. If it's required to delete it under any circumstances, please set spark.sql.streaming.forceDeleteTempCheckpointLocation to true. Important to know deleting temp checkpoint folder is best effort.\n",
      "23/12/13 15:54:53 WARN ResolveWriteToStream: spark.sql.adaptive.enabled is not supported in streaming DataFrames/Datasets and will be disabled.\n",
      "23/12/13 15:54:56 WARN AdminClientConfig: These configurations '[key.deserializer, value.deserializer, enable.auto.commit, max.poll.records, auto.offset.reset]' were supplied but are not used yet.\n",
      "                                                                                \r"
     ]
    },
    {
     "data": {
      "text/plain": [
       "False"
      ]
     },
     "execution_count": 4,
     "metadata": {},
     "output_type": "execute_result"
    }
   ],
   "source": [
    "# Extract and parse the JSON data - convert the json data to strings and add it to a new column 'data'\n",
    "\n",
    "# selectExpr allows you to select and transform columns using SQL\n",
    "# CAST(value AS STRING) - SQL expression that set the datatype for the selected column as a string\n",
    "# withColumn - Pyspark method used to add a or replace a column to the DF, in this case creating a new column named 'data'\n",
    "# the from_json function takes the json data from the value column of the stream and inserts into the new column\n",
    "transactions = (df.selectExpr(\"CAST(value AS STRING)\")\n",
    "                .withColumn(\"data\", from_json(col(\"value\"), schema))\n",
    "                .select(\"data.*\"))\n",
    "\n",
    "\n",
    "# write the transactions DF to an in memory table called temporary_view_two\n",
    "\n",
    "# writeStream - write the streaming data to memory, whereas readStream reads streaming data\n",
    "# set the format to memory\n",
    "# give the query a name using queryName\n",
    "# start the streaming query\n",
    "# query = transactions.writeStream \\\n",
    "# .format(\"memory\") \\\n",
    "# .queryName(\"temporary_view_four\") \\\n",
    "# .start()\n",
    "\n",
    "# query.awaitTermination(180)"
   ]
  },
  {
   "cell_type": "code",
   "execution_count": 5,
   "metadata": {},
   "outputs": [],
   "source": [
    "processed_data = spark.sql(\"SELECT * FROM temporary_view_four\")\n",
    "\n",
    "# Now you can perform aggregations or other transformations on `processed_data`"
   ]
  },
  {
   "cell_type": "code",
   "execution_count": null,
   "metadata": {},
   "outputs": [],
   "source": [
    "import time\n",
    "import matplotlib.pyplot as plt\n",
    "from IPython import display\n",
    "\n",
    "# This assumes you've set up a Spark streaming query that's writing aggregated results to an in-memory table.\n",
    "# Here's a simple example of how you'd do that with your data (this part isn't in the loop):\n",
    "query = transactions.groupBy(\"store_location\").agg(sum(\"transaction_amount\").alias(\"total_amount\")) \\\n",
    "    .writeStream \\\n",
    "    .outputMode(\"complete\") \\\n",
    "    .format(\"memory\") \\\n",
    "    .queryName(\"aggByLocation\") \\\n",
    "    .start()\n",
    "\n",
    "# Now, for the dynamic visualization:\n",
    "while True:\n",
    "    # Clear the previous plot\n",
    "    display.clear_output(wait=True)\n",
    "    \n",
    "    # Get the latest aggregated data\n",
    "    agg_by_location_pd = spark.sql(\"SELECT * FROM aggByLocation\").toPandas()\n",
    "    \n",
    "    # Plotting\n",
    "    plt.figure(figsize=(10, 6))\n",
    "    plt.bar(agg_by_location_pd['store_location'], agg_by_location_pd['total_amount'], color='skyblue')\n",
    "    plt.title('Total Transaction Amounts by Store Location')\n",
    "    plt.xlabel('Store Location')\n",
    "    plt.ylabel('Total Amount')\n",
    "    plt.xticks(rotation=45)\n",
    "    plt.tight_layout()\n",
    "    plt.show()\n",
    "    \n",
    "    time.sleep(10)  # Refresh every 10 seconds. Adjust this to your needs."
   ]
  }
 ],
 "metadata": {
  "kernelspec": {
   "display_name": "Python 3",
   "language": "python",
   "name": "python3"
  },
  "language_info": {
   "codemirror_mode": {
    "name": "ipython",
    "version": 3
   },
   "file_extension": ".py",
   "mimetype": "text/x-python",
   "name": "python",
   "nbconvert_exporter": "python",
   "pygments_lexer": "ipython3",
   "version": "3.9.6"
  }
 },
 "nbformat": 4,
 "nbformat_minor": 2
}
