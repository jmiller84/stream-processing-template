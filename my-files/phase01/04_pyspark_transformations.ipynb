{
 "cells": [
  {
   "cell_type": "code",
   "execution_count": 2,
   "metadata": {},
   "outputs": [
    {
     "name": "stderr",
     "output_type": "stream",
     "text": [
      "                                                                                \r"
     ]
    }
   ],
   "source": [
    "import csv \n",
    "from pyspark.sql import SparkSession\n",
    "\n",
    "spark = SparkSession.builder.appName(\"SpotifySongs\").getOrCreate()\n",
    "\n",
    "df = spark.read.csv(\"/home/ec2-user/stream-processing-template/my-files/phase01/spotify-2023.csv\", header=True, inferSchema=True)\n"
   ]
  },
  {
   "cell_type": "markdown",
   "metadata": {},
   "source": [
    "Select columns"
   ]
  },
  {
   "cell_type": "code",
   "execution_count": 3,
   "metadata": {},
   "outputs": [
    {
     "name": "stdout",
     "output_type": "stream",
     "text": [
      "+--------------------+--------------------+-------------+----------+\n",
      "|          track_name|      artist(s)_name|released_year|   streams|\n",
      "+--------------------+--------------------+-------------+----------+\n",
      "|Seven (feat. Latt...|    Latto, Jung Kook|         2023| 141381703|\n",
      "|                LALA|         Myke Towers|         2023| 133716286|\n",
      "|             vampire|      Olivia Rodrigo|         2023| 140003974|\n",
      "|        Cruel Summer|        Taylor Swift|         2019| 800840817|\n",
      "|      WHERE SHE GOES|           Bad Bunny|         2023| 303236322|\n",
      "|            Sprinter|   Dave, Central Cee|         2023| 183706234|\n",
      "|     Ella Baila Sola|Eslabon Armado, P...|         2023| 725980112|\n",
      "|            Columbia|             Quevedo|         2023|  58149378|\n",
      "|            fukumean|               Gunna|         2023|  95217315|\n",
      "|     La Bebe - Remix|Peso Pluma, Yng L...|         2023| 553634067|\n",
      "|           un x100to|Bad Bunny, Grupo ...|         2023| 505671438|\n",
      "|           Super Shy|            NewJeans|         2023|  58255150|\n",
      "|             Flowers|         Miley Cyrus|         2023|1316855716|\n",
      "|            Daylight|       David Kushner|         2023| 387570742|\n",
      "|           As It Was|        Harry Styles|         2022|2513188493|\n",
      "|           Kill Bill|                 SZA|         2022|1163093654|\n",
      "|   Cupid - Twin Ver.|         Fifty Fifty|         2023| 496795686|\n",
      "|\"What Was I Made ...|       Billie Eilish|         2023|  30546883|\n",
      "|          Classy 101|    Feid, Young Miko|         2023| 335222234|\n",
      "|          Like Crazy|               Jimin|         2023| 363369738|\n",
      "+--------------------+--------------------+-------------+----------+\n",
      "only showing top 20 rows\n",
      "\n"
     ]
    }
   ],
   "source": [
    "df.select(\"track_name\", \"artist(s)_name\", \"released_year\", \"streams\").show()"
   ]
  },
  {
   "cell_type": "markdown",
   "metadata": {},
   "source": [
    "Filtering based on a condition"
   ]
  },
  {
   "cell_type": "code",
   "execution_count": 4,
   "metadata": {},
   "outputs": [
    {
     "name": "stdout",
     "output_type": "stream",
     "text": [
      "+--------------------+--------------------+------------+-------------+--------------+------------+--------------------+-----------------+----------+------------------+---------------+-------------------+----------------+----------------+---+----+-----+--------------+---------+--------+--------------+------------------+----------+-------------+\n",
      "|          track_name|      artist(s)_name|artist_count|released_year|released_month|released_day|in_spotify_playlists|in_spotify_charts|   streams|in_apple_playlists|in_apple_charts|in_deezer_playlists|in_deezer_charts|in_shazam_charts|bpm| key| mode|danceability_%|valence_%|energy_%|acousticness_%|instrumentalness_%|liveness_%|speechiness_%|\n",
      "+--------------------+--------------------+------------+-------------+--------------+------------+--------------------+-----------------+----------+------------------+---------------+-------------------+----------------+----------------+---+----+-----+--------------+---------+--------+--------------+------------------+----------+-------------+\n",
      "|Seven (feat. Latt...|    Latto, Jung Kook|           2|         2023|             7|          14|                 553|              147| 141381703|                43|            263|                 45|              10|             826|125|   B|Major|            80|       89|      83|            31|                 0|         8|            4|\n",
      "|             vampire|      Olivia Rodrigo|           1|         2023|             6|          30|                1397|              113| 140003974|                94|            207|                 91|              14|             949|138|   F|Major|            51|       32|      53|            17|                 0|        31|            6|\n",
      "|        Cruel Summer|        Taylor Swift|           1|         2019|             8|          23|                7858|              100| 800840817|               116|            207|                125|              12|             548|170|   A|Major|            55|       58|      72|            11|                 0|        11|           15|\n",
      "|      WHERE SHE GOES|           Bad Bunny|           1|         2023|             5|          18|                3133|               50| 303236322|                84|            133|                 87|              15|             425|144|   A|Minor|            65|       23|      80|            14|                63|        11|            6|\n",
      "|            Sprinter|   Dave, Central Cee|           2|         2023|             6|           1|                2186|               91| 183706234|                67|            213|                 88|              17|             946|141|  C#|Major|            92|       66|      58|            19|                 0|         8|           24|\n",
      "|     Ella Baila Sola|Eslabon Armado, P...|           2|         2023|             3|          16|                3090|               50| 725980112|                34|            222|                 43|              13|             418|148|   F|Minor|            67|       83|      76|            48|                 0|         8|            3|\n",
      "|     La Bebe - Remix|Peso Pluma, Yng L...|           2|         2023|             3|          17|                2953|               44| 553634067|                49|            110|                 66|              13|             339|170|   D|Minor|            81|       56|      48|            21|                 0|         8|           33|\n",
      "|           un x100to|Bad Bunny, Grupo ...|           2|         2023|             4|          17|                2876|               40| 505671438|                41|            205|                 54|              12|             251| 83|  F#|Minor|            57|       56|      72|            23|                 0|        27|            5|\n",
      "|             Flowers|         Miley Cyrus|           1|         2023|             1|          12|               12211|              115|1316855716|               300|            215|                745|              58|           1,021|118|null|Major|            71|       65|      68|             6|                 0|         3|            7|\n",
      "|            Daylight|       David Kushner|           1|         2023|             4|          14|                3528|               98| 387570742|                80|            156|                182|              24|           1,281|130|   D|Minor|            51|       32|      43|            83|                 0|         9|            3|\n",
      "|           Kill Bill|                 SZA|           1|         2022|            12|           8|                8109|               77|1163093654|               183|            162|                161|              12|             187| 89|  G#|Major|            64|       43|      73|             5|                17|        16|            4|\n",
      "|   Cupid - Twin Ver.|         Fifty Fifty|           1|         2023|             2|          24|                2942|               77| 496795686|                91|            212|                 78|               6|               0|120|   B|Minor|            78|       76|      59|            43|                 0|        34|            3|\n",
      "|          Classy 101|    Feid, Young Miko|           2|         2023|             3|          31|                2610|               40| 335222234|                43|            100|                 54|              14|             187|100|   B|Major|            86|       67|      66|            14|                 0|        12|           16|\n",
      "|          Like Crazy|               Jimin|           1|         2023|             3|          24|                 596|               68| 363369738|                 8|            104|                 23|               2|              29|120|   G|Major|            63|       36|      73|             0|                 0|        36|            4|\n",
      "|    I Wanna Be Yours|      Arctic Monkeys|           1|         2013|             1|           1|               12859|              110|1297026226|                24|             98|                582|               2|              73|135|null|Minor|            48|       44|      42|            12|                 2|        11|            3|\n",
      "|Peso Pluma: Bzrp ...|Bizarrap, Peso Pluma|           2|         2023|             5|          31|                1313|               40| 200647221|                17|            152|                 32|              11|             139|133|   F|Minor|            85|       81|      67|            26|                 0|        12|            5|\n",
      "|Calm Down (with S...|     R��ma, Selena G|           2|         2022|             3|          25|                7112|               77| 899183384|               202|            119|                318|              38|              96|107|   B|Major|            80|       82|      80|            43|                 0|        14|            4|\n",
      "|          Last Night|       Morgan Wallen|           1|         2023|             1|          31|                2420|               19| 429829812|                52|            107|                 15|               1|             325|204|  F#|Major|            52|       52|      68|            46|                 0|        15|            4|\n",
      "|            Creepin'|The Weeknd, 21 Sa...|           3|         2022|            12|           2|                6036|               88| 843957510|               113|            149|                245|              23|              27| 98|  C#|Minor|            71|       17|      61|            36|                 0|         8|            5|\n",
      "|           Anti-Hero|        Taylor Swift|           1|         2022|            10|          21|                9082|               56| 999748277|               242|            142|                165|               9|             310| 97|   E|Major|            64|       51|      63|            12|                 0|        19|            5|\n",
      "+--------------------+--------------------+------------+-------------+--------------+------------+--------------------+-----------------+----------+------------------+---------------+-------------------+----------------+----------------+---+----+-----+--------------+---------+--------+--------------+------------------+----------+-------------+\n",
      "only showing top 20 rows\n",
      "\n"
     ]
    }
   ],
   "source": [
    "df.filter(df.streams > 140000000).show()"
   ]
  },
  {
   "cell_type": "markdown",
   "metadata": {},
   "source": [
    "Grouping based on a certain condition"
   ]
  },
  {
   "cell_type": "code",
   "execution_count": 5,
   "metadata": {},
   "outputs": [
    {
     "name": "stdout",
     "output_type": "stream",
     "text": [
      "+-------------+-----+\n",
      "|released_year|count|\n",
      "+-------------+-----+\n",
      "|         1959|    2|\n",
      "|         1975|    2|\n",
      "|         2003|    2|\n",
      "|         2007|    1|\n",
      "|         2018|   10|\n",
      "|         2015|   11|\n",
      "|         2023|  175|\n",
      "|         2022|  402|\n",
      "|         2013|   13|\n",
      "|         1942|    1|\n",
      "|         1952|    1|\n",
      "|         1997|    1|\n",
      "|         1994|    1|\n",
      "|         1968|    1|\n",
      "|         2014|   13|\n",
      "|         1930|    1|\n",
      "|         1973|    1|\n",
      "|         1979|    1|\n",
      "|         1946|    1|\n",
      "|         2019|   36|\n",
      "+-------------+-----+\n",
      "only showing top 20 rows\n",
      "\n"
     ]
    }
   ],
   "source": [
    "df.groupBy(\"released_year\").count().show()"
   ]
  },
  {
   "cell_type": "markdown",
   "metadata": {},
   "source": [
    "Sorting Ascending/Descending"
   ]
  },
  {
   "cell_type": "code",
   "execution_count": 6,
   "metadata": {},
   "outputs": [
    {
     "name": "stdout",
     "output_type": "stream",
     "text": [
      "+--------------------+--------------------+------------+-------------+--------------+------------+--------------------+-----------------+--------------------+------------------+---------------+-------------------+----------------+----------------+---+----+-----+--------------+---------+--------+--------------+------------------+----------+-------------+\n",
      "|          track_name|      artist(s)_name|artist_count|released_year|released_month|released_day|in_spotify_playlists|in_spotify_charts|             streams|in_apple_playlists|in_apple_charts|in_deezer_playlists|in_deezer_charts|in_shazam_charts|bpm| key| mode|danceability_%|valence_%|energy_%|acousticness_%|instrumentalness_%|liveness_%|speechiness_%|\n",
      "+--------------------+--------------------+------------+-------------+--------------+------------+--------------------+-----------------+--------------------+------------------+---------------+-------------------+----------------+----------------+---+----+-----+--------------+---------+--------+--------------+------------------+----------+-------------+\n",
      "|Love Grows (Where...|   Edison Lighthouse|           1|         1970|             1|           1|                2877|                0|BPM110KeyAModeMaj...|                16|              0|                 54|               0|               0|110|   A|Major|            53|       75|      69|             7|                 0|        17|            3|\n",
      "|           Anti-Hero|        Taylor Swift|           1|         2022|            10|          21|                9082|               56|           999748277|               242|            142|                165|               9|             310| 97|   E|Major|            64|       51|      63|            12|                 0|        19|            5|\n",
      "|              Arcade|     Duncan Laurence|           1|         2019|             3|           7|                6646|                0|           991336132|               107|             47|                584|               1|            null| 72|   A|Minor|            45|       27|      33|            82|                 0|        14|            4|\n",
      "|       Glimpse of Us|                Joji|           1|         2022|             6|          10|                6330|                6|           988515741|               109|             42|                158|               3|              31|170|  G#|Major|            44|       27|      32|            89|                 0|        14|            5|\n",
      "|      Seek & Destroy|                 SZA|           1|         2022|            12|           9|                1007|                0|            98709329|                 5|             31|                  1|               0|               0|152|  C#|Major|            65|       35|      65|            44|                18|        21|            7|\n",
      "|  Summertime Sadness|        Lana Del Rey|           1|         2011|             1|           1|               20333|               52|           983637508|                89|            143|              1,632|               3|             200|112|  C#|Minor|            56|       24|      66|             7|                 0|        12|            3|\n",
      "|\"Come Back Home -...|        Sofia Carson|           1|         2022|             7|          12|                 367|                0|            97610446|                28|             67|                195|               0|               0|145|   G|Major|            56|       43|      53|            24|                 0|        12|            4|\n",
      "|   Where Are You Now|Lost Frequencies,...|           2|         2021|             7|          30|               10565|               44|           972509632|               238|            122|                557|              17|              58|121|  F#|Minor|            67|       26|      64|            52|                 0|        17|           10|\n",
      "|       I Love You So|         The Walters|           1|         2014|            11|          28|                7536|                7|           972164968|                44|             19|                135|               0|               6| 76|  A#|Major|            58|       46|      67|            65|                 0|        13|            4|\n",
      "|           Queencard|            (G)I-DLE|           1|         2023|             5|          15|                 451|               33|            96273746|                10|            126|                  7|               0|             148|130|   E|Minor|            82|       69|      83|             3|                 0|        27|            5|\n",
      "|Double Fantasy (w...|  The Weeknd, Future|           2|         2023|             4|          21|                1169|                0|            96180277|                36|             65|                 28|               0|               0|119|   A|Minor|            60|       10|      57|             1|                 0|        50|            3|\n",
      "|               Alone|           Burna Boy|           1|         2022|            11|           4|                 782|                2|            96007391|                27|             18|                 32|               1|               0| 90|   E|Minor|            61|       32|      67|            15|                 0|        11|            5|\n",
      "|People Pt.2 (feat...|         IU, Agust D|           2|         2023|             4|           7|                 209|                4|            95816024|                 4|             45|                 11|               2|              24| 89|   G|Minor|            73|       44|      57|            39|                 0|        32|            6|\n",
      "|              No Lie| Sean Paul, Dua Lipa|           2|         2016|            11|          18|                7370|                0|           956865266|                92|            127|              1,219|               0|              62|102|   G|Major|            74|       45|      89|             5|                 0|        26|           13|\n",
      "|   Everything I Love|       Morgan Wallen|           1|         2023|             1|          31|                 579|                0|            95623148|                11|             54|                  0|               0|             103|104|  G#|Major|            56|       72|      85|             0|                 0|        15|            3|\n",
      "|            fukumean|               Gunna|           1|         2023|             5|          15|                1096|               83|            95217315|                60|            210|                 48|              11|             953|130|  C#|Minor|            85|       22|      62|            12|                 0|        28|            9|\n",
      "|HEARTBREAK ANNIVE...|              Giveon|           1|         2020|             2|          21|                5398|                4|           951637566|               111|            127|                210|               0|              37|129|null|Major|            61|       59|      46|            56|                 0|        13|            5|\n",
      "|What It Is (Solo ...|             Doechii|           1|         2023|             3|          17|                 804|               25|            95131998|                29|             76|                 24|               0|             162|172|  C#|Minor|            74|       76|      76|             6|                 0|        10|            9|\n",
      "|          Sure Thing|              Miguel|           1|         2010|             5|          25|               13801|               19|           950906471|               137|            125|                435|               6|             285| 81|   B|Minor|            68|       51|      60|             3|                 0|        19|           10|\n",
      "|                 Bye|          Peso Pluma|           1|         2023|             5|          26|                 324|               14|            95053634|                13|            110|                  8|               2|              60|122|null|Major|            78|       70|      81|            57|                 0|        10|            5|\n",
      "+--------------------+--------------------+------------+-------------+--------------+------------+--------------------+-----------------+--------------------+------------------+---------------+-------------------+----------------+----------------+---+----+-----+--------------+---------+--------+--------------+------------------+----------+-------------+\n",
      "only showing top 20 rows\n",
      "\n"
     ]
    }
   ],
   "source": [
    "df.orderBy(df.streams.desc()).show()"
   ]
  },
  {
   "cell_type": "markdown",
   "metadata": {},
   "source": [
    "Adding a new column"
   ]
  },
  {
   "cell_type": "code",
   "execution_count": 7,
   "metadata": {},
   "outputs": [
    {
     "name": "stdout",
     "output_type": "stream",
     "text": [
      "+--------------------+---------------------+\n",
      "|          track_name|total_charts_presence|\n",
      "+--------------------+---------------------+\n",
      "|Seven (feat. Latt...|               1246.0|\n",
      "|                LALA|                570.0|\n",
      "|             vampire|               1283.0|\n",
      "|        Cruel Summer|                867.0|\n",
      "|      WHERE SHE GOES|                623.0|\n",
      "|            Sprinter|               1267.0|\n",
      "|     Ella Baila Sola|                703.0|\n",
      "|            Columbia|                339.0|\n",
      "|            fukumean|               1257.0|\n",
      "|     La Bebe - Remix|                506.0|\n",
      "|           un x100to|                508.0|\n",
      "|           Super Shy|                430.0|\n",
      "|             Flowers|                 null|\n",
      "|            Daylight|                 null|\n",
      "|           As It Was|                 null|\n",
      "|           Kill Bill|                438.0|\n",
      "|   Cupid - Twin Ver.|                295.0|\n",
      "|\"What Was I Made ...|                 null|\n",
      "|          Classy 101|                341.0|\n",
      "|          Like Crazy|                203.0|\n",
      "+--------------------+---------------------+\n",
      "only showing top 20 rows\n",
      "\n"
     ]
    }
   ],
   "source": [
    "df.withColumn(\"total_charts_presence\", df.in_spotify_charts + df.in_apple_charts + df.in_deezer_charts + df.in_shazam_charts).select(\"track_name\", \"total_charts_presence\").show()"
   ]
  },
  {
   "cell_type": "code",
   "execution_count": null,
   "metadata": {},
   "outputs": [],
   "source": []
  }
 ],
 "metadata": {
  "kernelspec": {
   "display_name": "Python 3",
   "language": "python",
   "name": "python3"
  },
  "language_info": {
   "codemirror_mode": {
    "name": "ipython",
    "version": 3
   },
   "file_extension": ".py",
   "mimetype": "text/x-python",
   "name": "python",
   "nbconvert_exporter": "python",
   "pygments_lexer": "ipython3",
   "version": "3.7.16"
  }
 },
 "nbformat": 4,
 "nbformat_minor": 2
}
