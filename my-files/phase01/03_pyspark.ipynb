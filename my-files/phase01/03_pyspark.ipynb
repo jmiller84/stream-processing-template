{
 "cells": [
  {
   "cell_type": "code",
   "execution_count": 1,
   "metadata": {},
   "outputs": [
    {
     "name": "stderr",
     "output_type": "stream",
     "text": [
      "Setting default log level to \"WARN\".\n",
      "To adjust logging level use sc.setLogLevel(newLevel). For SparkR, use setLogLevel(newLevel).\n",
      "23/12/12 10:33:28 WARN NativeCodeLoader: Unable to load native-hadoop library for your platform... using builtin-java classes where applicable\n",
      "/usr/local/lib/python3.7/site-packages/pyspark/context.py:317: FutureWarning: Python 3.7 support is deprecated in Spark 3.4.\n",
      "  warnings.warn(\"Python 3.7 support is deprecated in Spark 3.4.\", FutureWarning)\n",
      "[Stage 0:>                                                          (0 + 1) / 1]\r"
     ]
    },
    {
     "name": "stdout",
     "output_type": "stream",
     "text": [
      "+----------+---------+---+\n",
      "|first_name|last_name|age|\n",
      "+----------+---------+---+\n",
      "|      John|      Doe| 29|\n",
      "|      Jane|    Smith| 34|\n",
      "|       Sam|    Brown| 23|\n",
      "+----------+---------+---+\n",
      "\n"
     ]
    },
    {
     "name": "stderr",
     "output_type": "stream",
     "text": [
      "                                                                                \r"
     ]
    }
   ],
   "source": [
    "from pyspark.sql import SparkSession\n",
    "\n",
    "spark = SparkSession.builder.appName(\"IntroToPySpark\").getOrCreate()\n",
    "\n",
    "data = [(\"John\", \"Doe\", 29), (\"Jane\", \"Smith\", 34), (\"Sam\", \"Brown\", 23)]\n",
    "columns = [\"first_name\", \"last_name\", \"age\"]\n",
    "\n",
    "df = spark.createDataFrame(data, columns)\n",
    "df.show()"
   ]
  },
  {
   "cell_type": "code",
   "execution_count": 2,
   "metadata": {},
   "outputs": [
    {
     "name": "stdout",
     "output_type": "stream",
     "text": [
      "+---+-----------------+----+------+--------------------+-----+--------------------+\n",
      "| id|        band_name|fans|formed|              origin|split|               style|\n",
      "+---+-----------------+----+------+--------------------+-----+--------------------+\n",
      "|  0|      Iron Maiden|4195|  1975|      United Kingdom|    -|New wave of briti...|\n",
      "|  1|            Opeth|4147|  1990|              Sweden| 1990|Extreme progressi...|\n",
      "|  2|        Metallica|3712|  1981|United States of ...|    -|Heavy,Bay area th...|\n",
      "|  3|         Megadeth|3105|  1983|United States of ...| 1983|Thrash,Heavy,Hard...|\n",
      "|  4|      Amon Amarth|3054|  1988|              Sweden|    -|       Melodic death|\n",
      "|  5|           Slayer|2955|  1981|United States of ...| 1981|              Thrash|\n",
      "|  6|            Death|2690|  1983|United States of ...| 2001|Progressive death...|\n",
      "|  7|    Dream Theater|2329|  1985|United States of ...| 1985|         Progressive|\n",
      "|  8|    Black Sabbath|2307|  1968|      United Kingdom|    -|Doom,Heavy,Hard rock|\n",
      "|  9|        Nightwish|2183|  1996|             Finland| 1996|Symphonic power,G...|\n",
      "| 10|Children Of Bodom|2153|  1993|             Finland|    -|       Extreme power|\n",
      "+---+-----------------+----+------+--------------------+-----+--------------------+\n",
      "\n"
     ]
    }
   ],
   "source": [
    "# Read csv file\n",
    "df_from_csv = spark.read.csv(\"/home/ec2-user/stream-processing-template/my-files/phase01/test_csv.csv\", header=True, inferSchema=True)\n",
    "df_from_csv.show()"
   ]
  }
 ],
 "metadata": {
  "kernelspec": {
   "display_name": "Python 3 (ipykernel)",
   "language": "python",
   "name": "python3"
  },
  "language_info": {
   "codemirror_mode": {
    "name": "ipython",
    "version": 3
   },
   "file_extension": ".py",
   "mimetype": "text/x-python",
   "name": "python",
   "nbconvert_exporter": "python",
   "pygments_lexer": "ipython3",
   "version": "3.7.16"
  }
 },
 "nbformat": 4,
 "nbformat_minor": 2
}
